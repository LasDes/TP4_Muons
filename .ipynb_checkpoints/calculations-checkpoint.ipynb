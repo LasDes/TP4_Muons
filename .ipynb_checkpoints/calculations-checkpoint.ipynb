{
 "cells": [
  {
   "cell_type": "code",
   "execution_count": 1,
   "metadata": {},
   "outputs": [],
   "source": [
    "import numpy as np\n",
    "import matplotlib.pyplot as plt\n",
    "from cycler import cycler\n",
    "from scipy.constants import *\n",
    "from scipy.optimize import curve_fit\n",
    "from uncertainties import ufloat\n",
    "plt.rc('axes', prop_cycle=(cycler('color', list('rbgm')) +\n",
    "                           cycler('linestyle', ['-', '-.', ':', '--'])))\n",
    "\n",
    "def preetyPlot(ax):\n",
    "    [tick.label.set_fontsize(19) for tick in ax.xaxis.get_major_ticks()]\n",
    "    [tick.label.set_fontsize(19) for tick in ax.yaxis.get_major_ticks()]\n",
    "    ax.set_xlabel('$t(\\mu s)$', fontsize=20)\n",
    "    ax.set_ylabel('Number of events', fontsize=20)\n",
    "    plt.legend(loc=0, fontsize=19)"
   ]
  },
  {
   "cell_type": "markdown",
   "metadata": {},
   "source": [
    "From Wikipedia, the Bethe-Bloch formula is given by \n",
    "$$- \\left\\langle\\frac{dE}{dx}\\right\\rangle = \\frac{4 \\pi}{m_e c^2} \\frac{nz^2}{\\beta^2}\\left(\\frac{e^2}{4\\pi\\varepsilon_0}\\right)^2 \\left[\\ln \\left(\\frac{2m_e c^2 \\beta^2}{I  (1-\\beta^2)}\\right) - \\beta^2\\right]$$\n",
    "\n",
    "where $n = \\frac{N_AZ\\rho}{A}$ and $I_{Cu}/Z_{Cu} = 11 eV$, $I_{C}/Z_{C} = 15 eV$."
   ]
  },
  {
   "cell_type": "code",
   "execution_count": 2,
   "metadata": {},
   "outputs": [],
   "source": [
    "def electronDensity(Z, rho, A):\n",
    "    return N_A * Z * rho /(A*1.)\n",
    "\n",
    "def betheBlochFormula(n, z, I, beta = 0.9998):\n",
    "    toreturn = 4*np.pi/(m_e*c**2) * n*z**2 /(beta**2) * (e**2/(4*np.pi*epsilon_0))**2\\\n",
    "    * (np.log(2*m_e*c**2*beta**2/(I*(1-beta**2)))-beta**2)\n",
    "    return -1*toreturn"
   ]
  },
  {
   "cell_type": "code",
   "execution_count": 3,
   "metadata": {},
   "outputs": [],
   "source": [
    "copper_density = 8920. #kg/m3\n",
    "plastic_density = 940. #kg/m3  Low/High density Polyethilene\n",
    "copper_I = 11*29*e #Joules\n",
    "plastic_I = 15*6*e #Joules\n",
    "copper_elec_dens = electronDensity(29, copper_density, 63.54)\n",
    "plastic_elec_dens = electronDensity(6, plastic_density, 12)"
   ]
  },
  {
   "cell_type": "code",
   "execution_count": 4,
   "metadata": {},
   "outputs": [
    {
     "name": "stdout",
     "output_type": "stream",
     "text": [
      "For Cu 1.86298756486643 MeV\n",
      "For C (Plastic) 0.23334606184953993 MeV\n"
     ]
    }
   ],
   "source": [
    "print 'For Cu', -betheBlochFormula(copper_elec_dens, 1, copper_I)/e *1e-6, 'MeV'\n",
    "print 'For C (Plastic)', -betheBlochFormula(plastic_elec_dens, 1, plastic_I)/e *1e-6, 'MeV'"
   ]
  },
  {
   "cell_type": "markdown",
   "metadata": {},
   "source": [
    "# Compute $\\lambda_1$"
   ]
  },
  {
   "cell_type": "code",
   "execution_count": 5,
   "metadata": {},
   "outputs": [
    {
     "name": "stdout",
     "output_type": "stream",
     "text": [
      "0.000416666666667\n",
      "0.00339327650538\n",
      "[4.16666667e-04 3.08641975e-05 2.33418531e-05 9.94681240e-06\n",
      " 2.45754841e-07]\n"
     ]
    }
   ],
   "source": [
    "t1 = 2.4e3# mus\n",
    "lambda1 = t1**-1\n",
    "print lambda1\n",
    "def Z4Law(Z):\n",
    "    lambda_capture_z = lambda1*Z**4\n",
    "    tau_capture_z = lambda_capture_z**-1\n",
    "    return tau_capture_z\n",
    "print Z4Law(29)\n",
    "lifetimes_neg_matter = np.array([2.4e3, 25., 1.5, .22, .09])\n",
    "Zs = np.array([1, 6, 13, 26, 82.])\n",
    "rates_neg_matter = 1./lifetimes_neg_matter\n",
    "print rates_neg_matter/(Zs**4)"
   ]
  },
  {
   "cell_type": "markdown",
   "metadata": {},
   "source": [
    "# Initial calibration with unknown threshold"
   ]
  },
  {
   "cell_type": "code",
   "execution_count": 6,
   "metadata": {},
   "outputs": [],
   "source": [
    "import pandas as pd\n",
    "from scipy import stats\n",
    "from scipy.optimize import fsolve\n"
   ]
  },
  {
   "cell_type": "code",
   "execution_count": 7,
   "metadata": {},
   "outputs": [
    {
     "data": {
      "text/html": [
       "<div>\n",
       "<style scoped>\n",
       "    .dataframe tbody tr th:only-of-type {\n",
       "        vertical-align: middle;\n",
       "    }\n",
       "\n",
       "    .dataframe tbody tr th {\n",
       "        vertical-align: top;\n",
       "    }\n",
       "\n",
       "    .dataframe thead th {\n",
       "        text-align: right;\n",
       "    }\n",
       "</style>\n",
       "<table border=\"1\" class=\"dataframe\">\n",
       "  <thead>\n",
       "    <tr style=\"text-align: right;\">\n",
       "      <th></th>\n",
       "      <th>PMT</th>\n",
       "      <th>Voltage (kV)</th>\n",
       "      <th>Counts (60s)</th>\n",
       "    </tr>\n",
       "  </thead>\n",
       "  <tbody>\n",
       "    <tr>\n",
       "      <th>0</th>\n",
       "      <td>1</td>\n",
       "      <td>2.01</td>\n",
       "      <td>1814</td>\n",
       "    </tr>\n",
       "    <tr>\n",
       "      <th>1</th>\n",
       "      <td>2</td>\n",
       "      <td>2.00</td>\n",
       "      <td>535</td>\n",
       "    </tr>\n",
       "    <tr>\n",
       "      <th>2</th>\n",
       "      <td>2</td>\n",
       "      <td>2.05</td>\n",
       "      <td>1005</td>\n",
       "    </tr>\n",
       "    <tr>\n",
       "      <th>3</th>\n",
       "      <td>1</td>\n",
       "      <td>2.05</td>\n",
       "      <td>2550</td>\n",
       "    </tr>\n",
       "    <tr>\n",
       "      <th>4</th>\n",
       "      <td>1</td>\n",
       "      <td>2.10</td>\n",
       "      <td>5007</td>\n",
       "    </tr>\n",
       "    <tr>\n",
       "      <th>5</th>\n",
       "      <td>2</td>\n",
       "      <td>2.10</td>\n",
       "      <td>1957</td>\n",
       "    </tr>\n",
       "    <tr>\n",
       "      <th>6</th>\n",
       "      <td>1</td>\n",
       "      <td>2.15</td>\n",
       "      <td>7575</td>\n",
       "    </tr>\n",
       "    <tr>\n",
       "      <th>7</th>\n",
       "      <td>2</td>\n",
       "      <td>2.15</td>\n",
       "      <td>3108</td>\n",
       "    </tr>\n",
       "    <tr>\n",
       "      <th>8</th>\n",
       "      <td>1</td>\n",
       "      <td>2.20</td>\n",
       "      <td>12723</td>\n",
       "    </tr>\n",
       "    <tr>\n",
       "      <th>9</th>\n",
       "      <td>2</td>\n",
       "      <td>2.20</td>\n",
       "      <td>5202</td>\n",
       "    </tr>\n",
       "    <tr>\n",
       "      <th>10</th>\n",
       "      <td>1</td>\n",
       "      <td>2.25</td>\n",
       "      <td>18319</td>\n",
       "    </tr>\n",
       "    <tr>\n",
       "      <th>11</th>\n",
       "      <td>2</td>\n",
       "      <td>2.25</td>\n",
       "      <td>8173</td>\n",
       "    </tr>\n",
       "    <tr>\n",
       "      <th>12</th>\n",
       "      <td>1</td>\n",
       "      <td>2.30</td>\n",
       "      <td>35437</td>\n",
       "    </tr>\n",
       "    <tr>\n",
       "      <th>13</th>\n",
       "      <td>2</td>\n",
       "      <td>2.30</td>\n",
       "      <td>11360</td>\n",
       "    </tr>\n",
       "    <tr>\n",
       "      <th>14</th>\n",
       "      <td>1</td>\n",
       "      <td>2.35</td>\n",
       "      <td>65253</td>\n",
       "    </tr>\n",
       "    <tr>\n",
       "      <th>15</th>\n",
       "      <td>2</td>\n",
       "      <td>2.35</td>\n",
       "      <td>16263</td>\n",
       "    </tr>\n",
       "    <tr>\n",
       "      <th>16</th>\n",
       "      <td>1</td>\n",
       "      <td>2.39</td>\n",
       "      <td>97114</td>\n",
       "    </tr>\n",
       "    <tr>\n",
       "      <th>17</th>\n",
       "      <td>2</td>\n",
       "      <td>2.39</td>\n",
       "      <td>25369</td>\n",
       "    </tr>\n",
       "    <tr>\n",
       "      <th>18</th>\n",
       "      <td>1</td>\n",
       "      <td>2.45</td>\n",
       "      <td>132525</td>\n",
       "    </tr>\n",
       "    <tr>\n",
       "      <th>19</th>\n",
       "      <td>2</td>\n",
       "      <td>2.45</td>\n",
       "      <td>49875</td>\n",
       "    </tr>\n",
       "    <tr>\n",
       "      <th>20</th>\n",
       "      <td>1</td>\n",
       "      <td>2.49</td>\n",
       "      <td>172229</td>\n",
       "    </tr>\n",
       "    <tr>\n",
       "      <th>21</th>\n",
       "      <td>2</td>\n",
       "      <td>2.49</td>\n",
       "      <td>70270</td>\n",
       "    </tr>\n",
       "    <tr>\n",
       "      <th>22</th>\n",
       "      <td>3</td>\n",
       "      <td>2.00</td>\n",
       "      <td>361</td>\n",
       "    </tr>\n",
       "    <tr>\n",
       "      <th>23</th>\n",
       "      <td>4</td>\n",
       "      <td>2.00</td>\n",
       "      <td>881</td>\n",
       "    </tr>\n",
       "    <tr>\n",
       "      <th>24</th>\n",
       "      <td>3</td>\n",
       "      <td>2.05</td>\n",
       "      <td>785</td>\n",
       "    </tr>\n",
       "    <tr>\n",
       "      <th>25</th>\n",
       "      <td>4</td>\n",
       "      <td>2.05</td>\n",
       "      <td>1504</td>\n",
       "    </tr>\n",
       "    <tr>\n",
       "      <th>26</th>\n",
       "      <td>3</td>\n",
       "      <td>2.10</td>\n",
       "      <td>1357</td>\n",
       "    </tr>\n",
       "    <tr>\n",
       "      <th>27</th>\n",
       "      <td>4</td>\n",
       "      <td>2.10</td>\n",
       "      <td>2727</td>\n",
       "    </tr>\n",
       "    <tr>\n",
       "      <th>28</th>\n",
       "      <td>3</td>\n",
       "      <td>2.15</td>\n",
       "      <td>2381</td>\n",
       "    </tr>\n",
       "    <tr>\n",
       "      <th>29</th>\n",
       "      <td>4</td>\n",
       "      <td>2.15</td>\n",
       "      <td>4750</td>\n",
       "    </tr>\n",
       "    <tr>\n",
       "      <th>30</th>\n",
       "      <td>3</td>\n",
       "      <td>2.20</td>\n",
       "      <td>4063</td>\n",
       "    </tr>\n",
       "    <tr>\n",
       "      <th>31</th>\n",
       "      <td>4</td>\n",
       "      <td>2.20</td>\n",
       "      <td>8364</td>\n",
       "    </tr>\n",
       "    <tr>\n",
       "      <th>32</th>\n",
       "      <td>3</td>\n",
       "      <td>2.25</td>\n",
       "      <td>8020</td>\n",
       "    </tr>\n",
       "    <tr>\n",
       "      <th>33</th>\n",
       "      <td>4</td>\n",
       "      <td>2.25</td>\n",
       "      <td>14256</td>\n",
       "    </tr>\n",
       "    <tr>\n",
       "      <th>34</th>\n",
       "      <td>3</td>\n",
       "      <td>2.30</td>\n",
       "      <td>13677</td>\n",
       "    </tr>\n",
       "    <tr>\n",
       "      <th>35</th>\n",
       "      <td>4</td>\n",
       "      <td>2.30</td>\n",
       "      <td>23544</td>\n",
       "    </tr>\n",
       "    <tr>\n",
       "      <th>36</th>\n",
       "      <td>3</td>\n",
       "      <td>2.35</td>\n",
       "      <td>24159</td>\n",
       "    </tr>\n",
       "    <tr>\n",
       "      <th>37</th>\n",
       "      <td>4</td>\n",
       "      <td>2.35</td>\n",
       "      <td>39904</td>\n",
       "    </tr>\n",
       "    <tr>\n",
       "      <th>38</th>\n",
       "      <td>3</td>\n",
       "      <td>2.40</td>\n",
       "      <td>48492</td>\n",
       "    </tr>\n",
       "    <tr>\n",
       "      <th>39</th>\n",
       "      <td>4</td>\n",
       "      <td>2.40</td>\n",
       "      <td>88771</td>\n",
       "    </tr>\n",
       "    <tr>\n",
       "      <th>40</th>\n",
       "      <td>3</td>\n",
       "      <td>2.45</td>\n",
       "      <td>167047</td>\n",
       "    </tr>\n",
       "    <tr>\n",
       "      <th>41</th>\n",
       "      <td>4</td>\n",
       "      <td>2.45</td>\n",
       "      <td>181466</td>\n",
       "    </tr>\n",
       "    <tr>\n",
       "      <th>42</th>\n",
       "      <td>3</td>\n",
       "      <td>2.49</td>\n",
       "      <td>120331348</td>\n",
       "    </tr>\n",
       "    <tr>\n",
       "      <th>43</th>\n",
       "      <td>4</td>\n",
       "      <td>2.49</td>\n",
       "      <td>214258783</td>\n",
       "    </tr>\n",
       "  </tbody>\n",
       "</table>\n",
       "</div>"
      ],
      "text/plain": [
       "    PMT  Voltage (kV)  Counts (60s)\n",
       "0     1          2.01          1814\n",
       "1     2          2.00           535\n",
       "2     2          2.05          1005\n",
       "3     1          2.05          2550\n",
       "4     1          2.10          5007\n",
       "5     2          2.10          1957\n",
       "6     1          2.15          7575\n",
       "7     2          2.15          3108\n",
       "8     1          2.20         12723\n",
       "9     2          2.20          5202\n",
       "10    1          2.25         18319\n",
       "11    2          2.25          8173\n",
       "12    1          2.30         35437\n",
       "13    2          2.30         11360\n",
       "14    1          2.35         65253\n",
       "15    2          2.35         16263\n",
       "16    1          2.39         97114\n",
       "17    2          2.39         25369\n",
       "18    1          2.45        132525\n",
       "19    2          2.45         49875\n",
       "20    1          2.49        172229\n",
       "21    2          2.49         70270\n",
       "22    3          2.00           361\n",
       "23    4          2.00           881\n",
       "24    3          2.05           785\n",
       "25    4          2.05          1504\n",
       "26    3          2.10          1357\n",
       "27    4          2.10          2727\n",
       "28    3          2.15          2381\n",
       "29    4          2.15          4750\n",
       "30    3          2.20          4063\n",
       "31    4          2.20          8364\n",
       "32    3          2.25          8020\n",
       "33    4          2.25         14256\n",
       "34    3          2.30         13677\n",
       "35    4          2.30         23544\n",
       "36    3          2.35         24159\n",
       "37    4          2.35         39904\n",
       "38    3          2.40         48492\n",
       "39    4          2.40         88771\n",
       "40    3          2.45        167047\n",
       "41    4          2.45        181466\n",
       "42    3          2.49     120331348\n",
       "43    4          2.49     214258783"
      ]
     },
     "metadata": {},
     "output_type": "display_data"
    }
   ],
   "source": [
    "raw_data = pd.read_excel('Calib_PMT_2.xlsx')\n",
    "display(raw_data)\n",
    "def extract_data(r_data, PMT_num):\n",
    "    PMT_data = r_data[r_data['PMT']==PMT_num]\n",
    "    PMT_data = PMT_data.drop('PMT', axis=1)\n",
    "    PMT_data = PMT_data.set_index(PMT_data['Voltage (kV)'])\n",
    "    PMT_data = PMT_data.sort_values('Voltage (kV)')\n",
    "    PMT_matrix = PMT_data.as_matrix()\n",
    "    return PMT_matrix"
   ]
  },
  {
   "cell_type": "code",
   "execution_count": 8,
   "metadata": {},
   "outputs": [],
   "source": [
    "matrices = [extract_data(raw_data, i) for i in range(1, 5)]"
   ]
  },
  {
   "cell_type": "code",
   "execution_count": 9,
   "metadata": {},
   "outputs": [],
   "source": [
    "def line(x, m, b, des):\n",
    "    return m*x + b - des\n",
    "\n",
    "def get_calibrating_voltage(PMT_matrix, desired_count, pmt, marker='o', linestyle='-', color='r'):\n",
    "    V_data = PMT_matrix[:,0]\n",
    "    count_data = PMT_matrix[:,1]\n",
    "    log_count_data = np.log(count_data)\n",
    "    V_mask=[v<=2.3 and v>=2 for v in V_data]\n",
    "    V_data = V_data[V_mask]\n",
    "    log_count_data = log_count_data[V_mask]\n",
    "    plt.plot(V_data, log_count_data, label = 'PMT %i'%pmt, marker=marker, markersize=8, lw=0, c=color)\n",
    "    plt.xlabel('$V(kV)$', fontsize=19)\n",
    "    plt.ylabel('$\\ln N(a.u.)$', fontsize=19)\n",
    "    slope, intercept, r_value, p_value, std_err = stats.linregress(V_data, log_count_data)\n",
    "    plt.plot(np.linspace(2, 2.4, 100), slope*np.linspace(2, 2.4, 100)+intercept, ls = linestyle, c=color)\n",
    "    #print slope, intercept\n",
    "    plt.legend()\n",
    "    return fsolve(line, 2, (slope, intercept, desired_count))\n",
    "    "
   ]
  },
  {
   "cell_type": "code",
   "execution_count": 10,
   "metadata": {
    "scrolled": false
   },
   "outputs": [
    {
     "data": {
      "image/png": "[encoded data removed]",
      "text/plain": [
       "<matplotlib.figure.Figure at 0x7ffa59732b10>"
      ]
     },
     "metadata": {},
     "output_type": "display_data"
    }
   ],
   "source": [
    "plt.figure(figsize=(8,5))\n",
    "markers = ['o', '^', 's', '*']\n",
    "linestyles = ['-.', ':', '--', '-']\n",
    "colors = ['r', 'purple', 'darkgreen', 'b']\n",
    "resV = [(i+1,get_calibrating_voltage(matrix, 8.5, i+1, marker=markers[i], linestyle=linestyles[i], color=colors[i])[0]) for i, matrix in enumerate(matrices)]\n",
    "plt.axhline(8.5, c='k', label='Chosen Response')\n",
    "plt.legend()\n",
    "plt.gcf()\n",
    "plt.savefig('PMTCalib.png', dpi=300)"
   ]
  },
  {
   "cell_type": "code",
   "execution_count": 11,
   "metadata": {},
   "outputs": [
    {
     "name": "stdout",
     "output_type": "stream",
     "text": [
      "1 & 2.11 \\\\\n",
      "2 & 2.20 \\\\\n",
      "3 & 2.21 \\\\\n",
      "4 & 2.15 \\\\\n"
     ]
    }
   ],
   "source": [
    "for t in resV:\n",
    "    print '%i & %.2f \\\\\\\\'%t"
   ]
  },
  {
   "cell_type": "markdown",
   "metadata": {},
   "source": [
    "# Calibración Threshold"
   ]
  },
  {
   "cell_type": "code",
   "execution_count": 12,
   "metadata": {},
   "outputs": [
    {
     "name": "stdout",
     "output_type": "stream",
     "text": [
      "    Threshold (V)  Counts (10s) source  Counts (10s) no source\n",
      "31           0.29                84670                   16311\n",
      "30           1.07                53838                    8590\n",
      "29           1.22                46825                    6775\n",
      "28           1.43                39568                    5306\n",
      "27           1.64                34844                    4272\n",
      "26           1.83                32054                    3568\n",
      "25           1.98                30379                    3238\n",
      "24           2.11                28973                    3148\n",
      "23           2.25                27921                    2838\n",
      "22           2.38                26928                    2648\n",
      "21           2.60                25892                    2624\n",
      "20           2.70                25353                    2384\n",
      "19           2.89                24518                    2173\n",
      "18           3.03                24256                    2073\n",
      "17           3.19                23269                    2117\n",
      "16           3.50                22387                    1835\n",
      "15           3.72                21645                    1682\n",
      "14           3.92                21162                    1655\n",
      "13           4.22                19925                    1533\n",
      "12           4.54                19486                    1595\n",
      "11           4.80                18516                    1404\n",
      "10           5.08                17759                    1372\n",
      "8            5.27                17595                    1373\n",
      "9            5.52                16666                    1272\n",
      "7            5.71                16202                    1244\n",
      "6            6.13                15399                    1122\n",
      "5            6.49                14594                    1028\n",
      "4            6.92                13599                     993\n",
      "3            7.52                12046                     916\n",
      "2            8.42                10326                     753\n",
      "1            9.60                 8054                     642\n",
      "0           10.25                 7078                     628\n"
     ]
    },
    {
     "data": {
      "image/png": "[encoded data removed]",
      "text/plain": [
       "<matplotlib.figure.Figure at 0x7ffa5998fd10>"
      ]
     },
     "metadata": {},
     "output_type": "display_data"
    }
   ],
   "source": [
    "raw_data = pd.read_excel('Threshold_calib.xlsx')\n",
    "raw_data= raw_data.sort_values('Threshold (V)')\n",
    "mat = raw_data.as_matrix()\n",
    "plt.plot(mat[:,0], mat[:,1], 'ob', label='Source')\n",
    "plt.plot(mat[:,0], mat[:,2], 'or', label='No Source')\n",
    "plt.legend(loc=0)\n",
    "print raw_data"
   ]
  },
  {
   "cell_type": "code",
   "execution_count": 13,
   "metadata": {},
   "outputs": [
    {
     "data": {
      "text/plain": [
       "[<matplotlib.lines.Line2D at 0x7ffa50c9b910>]"
      ]
     },
     "execution_count": 13,
     "metadata": {},
     "output_type": "execute_result"
    },
    {
     "data": {
      "image/png": "[encoded data removed]",
      "text/plain": [
       "<matplotlib.figure.Figure at 0x7ffa59732450>"
      ]
     },
     "metadata": {},
     "output_type": "display_data"
    }
   ],
   "source": [
    "plt.plot(mat[:,1], mat[:,2], 'or', label='Source vs. No Source')"
   ]
  },
  {
   "cell_type": "code",
   "execution_count": 14,
   "metadata": {},
   "outputs": [
    {
     "data": {
      "text/plain": [
       "[<matplotlib.lines.Line2D at 0x7ffa4fed7090>]"
      ]
     },
     "execution_count": 14,
     "metadata": {},
     "output_type": "execute_result"
    },
    {
     "data": {
      "image/png": "[encoded data removed]",
      "text/plain": [
       "<matplotlib.figure.Figure at 0x7ffa50c76190>"
      ]
     },
     "metadata": {},
     "output_type": "display_data"
    }
   ],
   "source": [
    "plt.plot(mat[:,0], mat[:,1]-mat[:,2], 'or', label='Source - No Source')\n"
   ]
  },
  {
   "cell_type": "markdown",
   "metadata": {},
   "source": [
    "+ Compton scattering: Relation between incoming photon and electron energy\n",
    "+ Muon decay products' energy\n",
    "+ More precise threshold measurements\n"
   ]
  },
  {
   "cell_type": "code",
   "execution_count": 15,
   "metadata": {},
   "outputs": [],
   "source": [
    "def electron_E(E_gamma):\n",
    "    return E_gamma*(1-1./(1+2*(E_gamma/(511e-3))))"
   ]
  },
  {
   "cell_type": "code",
   "execution_count": 16,
   "metadata": {},
   "outputs": [
    {
     "name": "stdout",
     "output_type": "stream",
     "text": [
      "Co [0.9602946334619431, 1.115673289183223] MeV\n",
      "Cs [0.003561739130434784, 0.47765013623978203] MeV\n"
     ]
    }
   ],
   "source": [
    "gamma_energies = [1.17, 1.33] #Cobalt\n",
    "gamma_Co = [electron_E(E) for E in gamma_energies]\n",
    "print 'Co', gamma_Co, 'MeV'\n",
    "\n",
    "gamma_energies = [0.032, 0.662] #Cs\n",
    "gamma_Cs = [electron_E(E) for E in gamma_energies]\n",
    "print 'Cs', gamma_Cs, 'MeV'"
   ]
  },
  {
   "cell_type": "markdown",
   "metadata": {},
   "source": [
    "# Cumulative Spectrum"
   ]
  },
  {
   "cell_type": "code",
   "execution_count": 17,
   "metadata": {},
   "outputs": [
    {
     "data": {
      "text/plain": [
       "[<matplotlib.lines.Line2D at 0x7ffa4ff11d50>]"
      ]
     },
     "execution_count": 17,
     "metadata": {},
     "output_type": "execute_result"
    },
    {
     "data": {
      "image/png": "[encoded data removed]",
      "text/plain": [
       "<matplotlib.figure.Figure at 0x7ffa8da4b210>"
      ]
     },
     "metadata": {},
     "output_type": "display_data"
    }
   ],
   "source": [
    "from scipy import interpolate\n",
    "spectrum = np.loadtxt('Co_Spectrum.csv', delimiter =',')\n",
    "def cumulate_spectrum(spectrum):\n",
    "    evaluate_spectrum = interpolate.interp1d(spectrum[:,0], spectrum[:,1], kind='cubic')\n",
    "    x = np.linspace(spectrum[:,0][0], spectrum[:,0][-1], 100)\n",
    "plt.plot(spectrum[:,0], spectrum[:,1])"
   ]
  },
  {
   "cell_type": "code",
   "execution_count": 18,
   "metadata": {},
   "outputs": [],
   "source": [
    "#This function can either print or store the markov chain. For parallel computing it is easier to print.\n",
    "def MH_Spectrum_Sampling(spectrum, niter):\n",
    "    evaluate_spectrum = interpolate.interp1d(spectrum[:,0], spectrum[:,1])\n",
    "    markov_chain=[]\n",
    "    max_interval=spectrum[:,0][-1]\n",
    "    initial_value=max_interval*np.random.random()\n",
    "    #print initial_value\n",
    "    markov_chain.append(initial_value)\n",
    "    for i in range(niter):\n",
    "        std = 10**(np.log10(spectrum[:,0][-1]))\n",
    "        to_try = np.random.normal(markov_chain[i], std)\n",
    "        while(to_try<spectrum[:,0][0] or to_try>spectrum[:,0][-1]):\n",
    "            to_try = np.random.normal(markov_chain[i], std)\n",
    "        possible_jump=to_try\n",
    "        criteria = evaluate_spectrum(possible_jump)/evaluate_spectrum(markov_chain[i])\n",
    "        if(criteria>=1.):\n",
    "            #print abs(possible_jump)\n",
    "            markov_chain.append(abs(possible_jump))\n",
    "        else:\n",
    "            other_random = np.random.random()\n",
    "            if(other_random<=criteria):\n",
    "                #print possible_jump\n",
    "                markov_chain.append(possible_jump)\n",
    "            else:\n",
    "                #print markov_chain[i]\n",
    "                markov_chain.append(markov_chain[i])\n",
    "    return np.array(markov_chain)"
   ]
  },
  {
   "cell_type": "code",
   "execution_count": 19,
   "metadata": {
    "scrolled": true
   },
   "outputs": [],
   "source": [
    "raw_data_Co = pd.read_excel('Threshold_calib.xlsx')\n",
    "\n",
    "def decumulate_measured_spectrum(raw, kind):\n",
    "    raw= raw.sort_values('Threshold (V)')\n",
    "    #display(raw)\n",
    "    mat = raw.as_matrix()\n",
    "    measured_spectrum = np.column_stack((mat[:,0], (mat[:,1]-mat[:,2])))\n",
    "    plt.scatter(measured_spectrum[:,0], measured_spectrum[:,1])\n",
    "    evaluate_measured_spectrum = interpolate.interp1d(measured_spectrum[:,0], measured_spectrum[:,1], kind = kind)\n",
    "    th_linsp = np.linspace(0.29, 10.24, 50)\n",
    "    freqs = evaluate_measured_spectrum(th_linsp)\n",
    "    intl_cdf = np.trapz(freqs, th_linsp)\n",
    "    intl_pdf = np.trapz(np.diff(freqs), th_linsp[:-1])\n",
    "\n",
    "    #freqs = np.copy(measured_spectrum[:,1])\n",
    "    #th_linsp = np.copy(measured_spectrum[:,0])\n",
    "    plt.plot(th_linsp, freqs, 'or')\n",
    "    #plt.plot(th_linsp, (np.gradient(freqs)))\n",
    "\n",
    "    #uncumulated = [freqs[i]-freqs[i+1] for i in range(len(freqs)-1)]\n",
    "    uncumulated = np.diff(freqs)\n",
    "    return th_linsp[:-1], freqs[:-1]/intl_cdf, uncumulated/intl_pdf"
   ]
  },
  {
   "cell_type": "code",
   "execution_count": 20,
   "metadata": {},
   "outputs": [
    {
     "data": {
      "text/plain": [
       "Text(0.5,1,u'Co')"
      ]
     },
     "execution_count": 20,
     "metadata": {},
     "output_type": "execute_result"
    },
    {
     "data": {
      "image/png": "[encoded data removed]",
      "text/plain": [
       "<matplotlib.figure.Figure at 0x7ffa50d4fc90>"
      ]
     },
     "metadata": {},
     "output_type": "display_data"
    }
   ],
   "source": [
    "x, ysp, y = decumulate_measured_spectrum(raw_data_Co, 'linear')\n",
    "plt.title('Co')"
   ]
  },
  {
   "cell_type": "code",
   "execution_count": 21,
   "metadata": {},
   "outputs": [
    {
     "data": {
      "text/plain": [
       "<matplotlib.collections.PathCollection at 0x7ffa50bc0610>"
      ]
     },
     "execution_count": 21,
     "metadata": {},
     "output_type": "execute_result"
    },
    {
     "data": {
      "image/png": "[encoded data removed]",
      "text/plain": [
       "<matplotlib.figure.Figure at 0x7ffa5972bc10>"
      ]
     },
     "metadata": {},
     "output_type": "display_data"
    }
   ],
   "source": [
    "#%matplotlib notebook\n",
    "plt.scatter(x, y)"
   ]
  },
  {
   "cell_type": "markdown",
   "metadata": {},
   "source": [
    "plt.plot(x, y)"
   ]
  },
  {
   "cell_type": "code",
   "execution_count": 22,
   "metadata": {
    "scrolled": false
   },
   "outputs": [
    {
     "data": {
      "text/plain": [
       "Text(0.5,1,u'Cs')"
      ]
     },
     "execution_count": 22,
     "metadata": {},
     "output_type": "execute_result"
    },
    {
     "data": {
      "image/png": "[encoded data removed]",
      "text/plain": [
       "<matplotlib.figure.Figure at 0x7ffa50c01210>"
      ]
     },
     "metadata": {},
     "output_type": "display_data"
    }
   ],
   "source": [
    "raw_data_Cs = pd.read_excel('Threshold_calib_Cs.xlsx')\n",
    "x_Cs, ysp_Cs, y_Cs = decumulate_measured_spectrum(raw_data_Cs, 'linear')\n",
    "plt.title('Cs')"
   ]
  },
  {
   "cell_type": "code",
   "execution_count": 23,
   "metadata": {},
   "outputs": [
    {
     "data": {
      "image/png": "[encoded data removed]",
      "text/plain": [
       "<matplotlib.figure.Figure at 0x7ffa50afc750>"
      ]
     },
     "metadata": {},
     "output_type": "display_data"
    }
   ],
   "source": [
    "fig, ax = plt.subplots(1,2, figsize=(12,5))\n",
    "\n",
    "ax[0].plot(x_Cs, ysp_Cs, 'o-', label = 'Cs')\n",
    "ax[0].plot(x, ysp, 'or-', label = 'Co')\n",
    "ax[1].plot(x_Cs, y_Cs, 'o-', label = 'Cs')\n",
    "ax[1].plot(x, y, 'or-', label = 'Co')\n",
    "th_Co, = x[y==max(y)]\n",
    "ax[1].axvline(th_Co, c = 'r')\n",
    "th_Cs, = x_Cs[y_Cs==max(y_Cs)]\n",
    "ax[1].axvline(th_Cs, c = 'C0')\n",
    "\n",
    "[a.set_xlabel('$T (V)$', fontsize =15) for a in ax]\n",
    "ax[0].set_ylabel('CDF', fontsize=19)\n",
    "ax[1].set_ylabel('PDF', fontsize=19)\n",
    "\n",
    "[a.legend(fontsize = 15) for a in ax]\n",
    "plt.tight_layout()\n",
    "plt.gcf()\n",
    "plt.savefig('th_calibration.png', dpi = 300)"
   ]
  },
  {
   "cell_type": "code",
   "execution_count": 24,
   "metadata": {},
   "outputs": [
    {
     "name": "stdout",
     "output_type": "stream",
     "text": [
      "[0.47765013623978203, 0.9602946334619431]\n",
      "[0.6961224489795919, 1.1022448979591837]\n"
     ]
    },
    {
     "data": {
      "image/png": "[encoded data removed]",
      "text/plain": [
       "<matplotlib.figure.Figure at 0x7ffa50bd3fd0>"
      ]
     },
     "metadata": {},
     "output_type": "display_data"
    }
   ],
   "source": [
    "energies = [gamma_Cs[1], gamma_Co[0]]\n",
    "print energies\n",
    "threshold = [th_Cs, th_Co]\n",
    "print threshold\n",
    "plt.plot(threshold, energies)\n",
    "plt.xlabel('E')\n",
    "plt.ylabel('T')\n",
    "slope, intercept, r_value, p_value, std_err = stats.linregress(energies, threshold)"
   ]
  },
  {
   "cell_type": "code",
   "execution_count": 25,
   "metadata": {},
   "outputs": [
    {
     "name": "stdout",
     "output_type": "stream",
     "text": [
      "4.080739049241165\n"
     ]
    }
   ],
   "source": [
    "print slope*4.5+intercept"
   ]
  },
  {
   "cell_type": "code",
   "execution_count": 26,
   "metadata": {},
   "outputs": [],
   "source": [
    "slope, intercept, r_value, p_value, std_err = stats.linregress(threshold, energies)"
   ]
  },
  {
   "cell_type": "code",
   "execution_count": 27,
   "metadata": {},
   "outputs": [
    {
     "name": "stdout",
     "output_type": "stream",
     "text": [
      "4.998258570271873\n"
     ]
    }
   ],
   "source": [
    "print slope*4.5+intercept"
   ]
  },
  {
   "cell_type": "markdown",
   "metadata": {},
   "source": [
    "# Wrong measurements"
   ]
  },
  {
   "cell_type": "code",
   "execution_count": 28,
   "metadata": {},
   "outputs": [],
   "source": [
    "#dt_23 = np.loadtxt('Muons2018/shift-2-3.txt', delimiter = ';', skiprows = 5)\n",
    "dt_23 = np.loadtxt('Muons2018/C1H00000--00000.txt', delimiter = ';', skiprows = 5)\n"
   ]
  },
  {
   "cell_type": "code",
   "execution_count": 29,
   "metadata": {},
   "outputs": [
    {
     "data": {
      "text/plain": [
       "[<matplotlib.lines.Line2D at 0x7ffa50945f50>]"
      ]
     },
     "execution_count": 29,
     "metadata": {},
     "output_type": "execute_result"
    },
    {
     "data": {
      "image/png": "[encoded data removed]",
      "text/plain": [
       "<matplotlib.figure.Figure at 0x7ffa509d6410>"
      ]
     },
     "metadata": {},
     "output_type": "display_data"
    }
   ],
   "source": [
    "plt.plot(dt_23[:,0], dt_23[:,1], 'ob')\n",
    "#plt.xlim(8.98e-8, 9.01e-8)"
   ]
  },
  {
   "cell_type": "markdown",
   "metadata": {},
   "source": [
    "# N-th \"good\" measurement $N\\rightarrow\\infty$"
   ]
  },
  {
   "cell_type": "code",
   "execution_count": 30,
   "metadata": {},
   "outputs": [],
   "source": [
    "#Background estimation\n",
    "data_stop = np.loadtxt('Muons2018/muon2wTOPnoB--00000.txt',  delimiter = ';', skiprows = 5, dtype=float)\n",
    "data_sbottom = np.loadtxt('Muons2018/muon2wBOTTOMnoB--00000.txt' , delimiter = ';', skiprows = 5, dtype=float)"
   ]
  },
  {
   "cell_type": "code",
   "execution_count": null,
   "metadata": {},
   "outputs": [
    {
     "name": "stdout",
     "output_type": "stream",
     "text": [
      "[4.00e-08 2.40e-07 4.40e-07 6.40e-07 8.40e-07 1.04e-06 1.24e-06 1.44e-06\n",
      " 1.64e-06 1.84e-06 2.04e-06 2.24e-06 2.44e-06 2.64e-06 2.84e-06 3.04e-06\n",
      " 3.24e-06 3.44e-06 3.64e-06 3.84e-06 4.04e-06 4.24e-06 4.44e-06 4.64e-06\n",
      " 4.84e-06 5.04e-06 5.24e-06 5.44e-06 5.64e-06 5.84e-06 6.04e-06 6.24e-06\n",
      " 6.44e-06 6.64e-06 6.84e-06 7.04e-06 7.24e-06 7.44e-06 7.64e-06 7.84e-06\n",
      " 8.04e-06 8.24e-06 8.44e-06 8.64e-06 8.84e-06 9.04e-06 9.24e-06 9.44e-06\n",
      " 9.64e-06 9.84e-06 1.00e-05 1.02e-05 1.04e-05]\n",
      "23\n"
     ]
    },
    {
     "data": {
      "image/png": "[encoded data removed]",
      "text/plain": [
       "<matplotlib.figure.Figure at 0x7ffa50b91790>"
      ]
     },
     "metadata": {},
     "output_type": "display_data"
    }
   ],
   "source": [
    "x_top = data_stop[:,0]\n",
    "y_top = data_stop[:,1]\n",
    "x_bottom = data_sbottom[:,0]\n",
    "y_bottom = data_sbottom[:,1]\n",
    "dummy_y_top = np.copy(y_top)\n",
    "dummy_y_bottom = np.copy(y_bottom)\n",
    "x_top=x_top[y_top != 0]\n",
    "y_top=y_top[y_top != 0]\n",
    "\n",
    "x_bottom=x_bottom[y_bottom != 0]\n",
    "y_bottom=y_bottom[y_bottom != 0]\n",
    "delta = (x_bottom[-1]-x_bottom[0])/len(x_bottom)\n",
    "upper = 15e-6\n",
    "N = (upper-x_bottom[0])/delta\n",
    "print x_bottom\n",
    "ext_x_bottom =  np.linspace(x_bottom[0], upper, int(N))\n",
    "#pad interpolation range with zeros\n",
    "#ext_y_top = np.pad(y_top, len(ext_x_bottom)-len(x_top), mode='constant')\n",
    "#ext_y_bottom = np.pad(y_bottom, len(ext_x_bottom)-len(x_bottom), mode='constant')\n",
    "\n",
    "plt.plot(x_top*1e6, y_top, 'o-')\n",
    "plt.plot(x_bottom*1e6, y_bottom, 'o-')\n",
    "plt.ylim(0,2000)\n",
    "print len(ext_x_bottom)-len(x_bottom)"
   ]
  },
  {
   "cell_type": "code",
   "execution_count": null,
   "metadata": {},
   "outputs": [],
   "source": [
    "bkg_y = (y_top[:-1]-y_bottom)\n",
    "bkg_y /=(sum(y_top[:-1]+y_bottom))\n",
    "#bkg_y /=(sum(y_top[:-1]))\n",
    "ext_bkg_y = np.pad(bkg_y, (1,len(ext_x_bottom)-len(x_bottom)), mode='constant')\n",
    "ext_x_bottom = np.pad(ext_x_bottom, (1,0), mode='constant')\n",
    "fig, ax = plt.subplots(1,1, figsize=(10,8))\n",
    "\n",
    "plt.plot(x_bottom*1e6, bkg_y, 'ob-',label='Background', linewidth=4, markersize=9)\n",
    "#plt.plot(ext_x_bottom*1e6, ext_bkg_y)\n",
    "bkg_interpF = interpolate.interp1d(ext_x_bottom, ext_bkg_y, kind='nearest')\n",
    "#t = np.linspace(x_bottom[0], x_bottom[-1], 100)\n",
    "#plt.plot(t*1e6, bkg_interpF(t))\n",
    "preetyPlot(plt.gca())\n",
    "ax.set_ylabel('% of total counts')\n",
    "#ax.set_yscale('log')\n",
    "plt.gcf()\n",
    "plt.savefig('Background.png', dpi=300)"
   ]
  },
  {
   "cell_type": "code",
   "execution_count": null,
   "metadata": {},
   "outputs": [],
   "source": [
    "\n",
    "\n",
    "def f(x, a, t, b):\n",
    "    return a *np.exp(-x/t) + b\n",
    "\n",
    "def removeBackgroundPeaks(bkg, data_x, data_y, n):\n",
    "    for i in range(n):\n",
    "        ind = np.where(bkg == max(bkg))\n",
    "        data_x = np.delete(data_x, ind)\n",
    "        data_y = np.delete(data_y, ind)\n",
    "        bkg = np.delete(bkg, ind)\n",
    "    return data_x, data_y\n",
    "\n",
    "def chisq(data, fit, params):\n",
    "    deg = len(data)-params\n",
    "    return sum((data-fit)**2/fit)/deg\n",
    "def doTheFit(data, th=0, f =f, guess = [2000., (2.2e-6),1], ax=plt.figure().gca(), removeBkg = 5):\n",
    "    th+=2\n",
    "    y =data[th:,1]\n",
    "    sy = sum(y)\n",
    "    x= data[th:,0]\n",
    "    scale =1.\n",
    "    dummy_y = np.copy(y)\n",
    "    y=y[abs(dummy_y)!=0]\n",
    "    x=x[abs(dummy_y)!=0]\n",
    "    print x, y\n",
    "    bkg = sy*bkg_interpF(x)/scale\n",
    "    \n",
    "\n",
    "    \n",
    "    '''    \n",
    "    if subs_bkg == True:\n",
    "        y = np.copy(y)- bkg\n",
    "        removeBkg = 0\n",
    "#        ax.plot(x, bkg, 'og')'''\n",
    "    \n",
    "    x, y = removeBackgroundPeaks(bkg, x, y, removeBkg)\n",
    "    print 'The number of counts is %i'%(sum(y*scale))\n",
    "    popt, pcov = curve_fit(f, x, y, guess)\n",
    "    perr = np.sqrt(np.diag(pcov))\n",
    "    chisqd = chisq(y, f(x, *popt), len(guess))\n",
    "    print 'Parameters: ', popt\n",
    "    t = np.linspace(x[0], x[-1], 100)\n",
    "    #print 'The muon lifetime obtained is %.3f mus'%(-popt[1]**-1 * 1e6)\n",
    "    #print 'The background level is estimated to be %.2f of the total'%popt[-1]\n",
    "    ax.plot(t*1e6, f(t, *popt), label = '$t>%.2f\\mu s\\ \\ \\\\tau = %.3f\\pm%.3f\\mu s$\\n$\\chi^2/$dof$=%.2f$'%(x[0]*1e6, popt[1] * 1e6,abs(perr[1]) * 1e6, chisqd), lw = 5)\n",
    "    ax.plot(x*1e6,y, 'ok')\n",
    "\n",
    "    #ax.plot(t, popt[0]*np.exp(-t/(2.2e-6))+popt[-1])\n",
    "    #ax.plot(t, popt[0]*np.exp(-t/(0.15e-6))+popt[-1])\n",
    "    #print 'The errors in the fit are ', perr\n",
    "    print 'Chi sq = %.3f'%chisqd\n",
    "    [tick.label.set_fontsize(19) for tick in ax.xaxis.get_major_ticks()]\n",
    "    [tick.label.set_fontsize(19) for tick in ax.yaxis.get_major_ticks()]\n",
    "    ax.set_xlabel('$t(\\mu s)$', fontsize=20)\n",
    "    ax.set_ylabel('Number of events', fontsize=20)\n",
    "    return popt[1]\n",
    "    \n",
    "def doTheDoubleFit(data, th=0, f =f, guess = [2000.,2000., 2.2e-6, 0.16e-6,20], ax=plt.figure().gca(), removeBkg=5):\n",
    "    def f(x, a,c, tp, tm, b):\n",
    "        return a*np.exp(-x/tp) + c*np.exp(-x/tm) + b\n",
    "    th+=2\n",
    "    y =data[th:,1]\n",
    "    sy = sum(y)\n",
    "    x= data[th:,0]\n",
    "    dummy_y = np.copy(y)\n",
    "    y=y[abs(dummy_y)!=0]\n",
    "    x=x[abs(dummy_y)!=0]\n",
    "    #print x\n",
    "    scale =1.\n",
    "    bkg = sy*bkg_interpF(x)/scale\n",
    "\n",
    "    x, y = removeBackgroundPeaks(bkg, x, y, removeBkg)\n",
    "    print 'The number of counts is %i'%(sum(y*scale))\n",
    "    popt, pcov = curve_fit(f, x, y, guess, bounds=([0, 0, 0, 0, 0], [np.inf,np.inf, np.inf, np.inf, np.inf]))\n",
    "    print pcov\n",
    "    perr = np.sqrt(np.diag(pcov))    \n",
    "    chisqd = chisq(y, f(x, *popt), len(guess))\n",
    "    print 'Parameters: ', popt\n",
    "    t = np.linspace(x[0], x[-1], 100)\n",
    "    #print 'The positive muon lifetime obtained is %.3f mus'%(-popt[2]**-1 * 1e6)\n",
    "    #print 'The negative muon lifetime obtained is %.3f mus'%(-popt[3]**-1 * 1e6)\n",
    "\n",
    "    #print 'The background level is estimated to be %.2f of the total'%popt[-1]\n",
    "    #ax.plot(x, bkg, 'ok')\n",
    "    ax.plot(t*1e6, f(t, *popt), label = '$\\\\tau^+ = %.3f\\pm%.3f\\mu s$ \\n $\\\\tau^- = %.3f\\pm%.3f\\mu s$\\n$\\chi^2/$dof$=%.2f$'%(popt[2] * 1e6, perr[2]*1e6, popt[3] * 1e6, perr[3]*1e6, chisqd), lw = 5)\n",
    "    ax.plot(x*1e6,y, 'ok', markersize=7)\n",
    "\n",
    "    #ax.plot(t, popt[0]*np.exp(-t/(2.2e-6))+popt[-1])\n",
    "    #ax.plot(t, popt[0]*np.exp(-t/(0.15e-6))+popt[-1])\n",
    "    #print 'The errors in the fit are ', perr\n",
    "    print 'Chi sq = %.3f'%chisq(y, f(x, *popt), len(guess))\n",
    "    [tick.label.set_fontsize(19) for tick in ax.xaxis.get_major_ticks()]\n",
    "    [tick.label.set_fontsize(19) for tick in ax.yaxis.get_major_ticks()]\n",
    "    ax.set_xlabel('$t(\\mu s)$', fontsize=20)\n",
    "    ax.set_ylabel('Number of events', fontsize=20)\n",
    "\n",
    "tail_threshold = 10"
   ]
  },
  {
   "cell_type": "markdown",
   "metadata": {},
   "source": [
    "# Single exponential fit"
   ]
  },
  {
   "cell_type": "markdown",
   "metadata": {},
   "source": [
    "## Original Top + Bottom data"
   ]
  },
  {
   "cell_type": "code",
   "execution_count": null,
   "metadata": {
    "scrolled": false
   },
   "outputs": [],
   "source": [
    "data2weekOK = np.loadtxt('Muons2018/muon2weekOK--00000.txt', delimiter = ';', skiprows = 5)\n",
    "fig, ax = plt.subplots(1,1, figsize=(10,8))\n",
    "\n",
    "tau_total = doTheFit(data2weekOK,1, ax=ax)\n",
    "\n",
    "tau_plus = doTheFit(data2weekOK,tail_threshold, ax=ax)\n",
    "\n",
    "#print 'The NEGATIVE MUON lifetime obtained is %.3f mu s'%tau_minus\n",
    "x= np.linspace(1e-7, 10e-6, 1000)\n",
    "\n",
    "               \n",
    "#ax.plot(x,5.10259278e+03*np.exp(-x/(2.2e-6)), label = '$\\\\tau = 2.2 \\mu s$', lw=5)\n",
    "#ax.plot(x,5.10259278e+03*np.exp(-x/(0.15e-6)), label = '$\\\\tau = 0.15 \\mu s$', lw=5)\n",
    "#ax.plot(x,5.10259278e+03*np.exp(-x*((2.2e-6)**-1 + (0.15e-6)**-1)), label = '$\\\\tau = total \\mu s$', lw=5)\n",
    "plt.legend(loc=0, fontsize=19)\n",
    "plt.gcf()\n",
    "plt.savefig('BothNoBSingleExp.png', dpi=300)"
   ]
  },
  {
   "cell_type": "markdown",
   "metadata": {},
   "source": [
    "## Just Bottom data"
   ]
  },
  {
   "cell_type": "code",
   "execution_count": null,
   "metadata": {},
   "outputs": [],
   "source": [
    "data2weekOK = np.loadtxt('Muons2018/muon2wBOTTOMnoB--00000.txt', delimiter = ';', skiprows = 5)\n",
    "\n",
    "fig, ax = plt.subplots(1,1, figsize=(10,8))\n",
    "\n",
    "tau_sing_all = doTheFit(data2weekOK,1, ax=ax, removeBkg=0)\n",
    "tau_plus = doTheFit(data2weekOK,tail_threshold, ax=ax, removeBkg=0)\n",
    "#tau_minus = ((1./tau_total) - (1./tau_plus))**-1\n",
    "#print 'The NEGATIVE MUON lifetime obtained is %.3f mu s'%tau_minus\n",
    "x= np.linspace(1e-7, 10e-6, 1000)\n",
    "\n",
    "#ax.plot(x,5.10259278e+03*np.exp(-x/(2.2e-6)), label = '$\\\\tau = 2.2 \\mu s$', lw=5)\n",
    "#ax.plot(x,5.10259278e+03*np.exp(-x/(0.15e-6)), label = '$\\\\tau = 0.15 \\mu s$', lw=5)\n",
    "#ax.plot(x,5.10259278e+03*np.exp(-x*((2.2e-6)**-1 + (0.15e-6)**-1)), label = '$\\\\tau = total \\mu s$', lw=5)\n",
    "plt.legend(loc=0, fontsize=19)\n",
    "plt.gcf()\n",
    "plt.savefig('BottomNoBSingleExp.png', dpi=300)"
   ]
  },
  {
   "cell_type": "markdown",
   "metadata": {},
   "source": [
    "# Double exponential fit"
   ]
  },
  {
   "cell_type": "markdown",
   "metadata": {},
   "source": [
    "## Original Top + Bottom data"
   ]
  },
  {
   "cell_type": "code",
   "execution_count": null,
   "metadata": {
    "scrolled": false
   },
   "outputs": [],
   "source": [
    "data2weekOK = np.loadtxt('Muons2018/muon2weekOK--00000.txt', delimiter = ';', skiprows = 5)\n",
    "fig, ax = plt.subplots(1,1, figsize=(10,8))\n",
    "\n",
    "__ = doTheDoubleFit(data2weekOK,1, ax=ax)\n",
    "__ = doTheFit(data2weekOK,tail_threshold, ax=ax)\n",
    "plt.legend(loc=0, fontsize=19)\n",
    "plt.gcf()\n",
    "plt.savefig('BothNoBDoubleExp.png', dpi=300)"
   ]
  },
  {
   "cell_type": "markdown",
   "metadata": {},
   "source": [
    "## Just Bottom data"
   ]
  },
  {
   "cell_type": "code",
   "execution_count": null,
   "metadata": {},
   "outputs": [],
   "source": [
    "data2weekOK = np.loadtxt('Muons2018/muon2wBOTTOMnoB--00000.txt', delimiter = ';', skiprows = 5)\n",
    "fig, ax = plt.subplots(1,1, figsize=(10,8))\n",
    "\n",
    "tau_total = doTheDoubleFit(data2weekOK,1, ax=ax, removeBkg=0)\n",
    "tau_sing_tail = doTheFit(data2weekOK,tail_threshold, ax=ax, removeBkg=0)\n",
    "#tau_minus = ((1./tau_total) - (1./tau_plus))**-1\n",
    "#print 'The NEGATIVE MUON lifetime obtained is %.3f mu s'%tau_minus\n",
    "x= np.linspace(1e-7, 10e-6, 1000)\n",
    "\n",
    "#ax.plot(x,5.10259278e+03*np.exp(-x/(2.2e-6)), label = '$\\\\tau = 2.2 \\mu s$', lw=5)\n",
    "#ax.plot(x,5.10259278e+03*np.exp(-x/(0.15e-6)), label = '$\\\\tau = 0.15 \\mu s$', lw=5)\n",
    "#ax.plot(x,5.10259278e+03*np.exp(-x*((2.2e-6)**-1 + (0.15e-6)**-1)), label = '$\\\\tau = total \\mu s$', lw=5)\n",
    "#ax.axvline(6e-07)\n",
    "plt.legend(loc=0, fontsize=19)\n",
    "plt.gcf()\n",
    "plt.savefig('BottomNoBDoubleExp.png', dpi=300)"
   ]
  },
  {
   "cell_type": "markdown",
   "metadata": {},
   "source": [
    "## Just top data (background removed)"
   ]
  },
  {
   "cell_type": "code",
   "execution_count": null,
   "metadata": {},
   "outputs": [],
   "source": [
    "data2weekTOP = np.loadtxt('Muons2018/muon2wTOPnoB--00000.txt', delimiter = ';', skiprows = 5)\n",
    "fig, ax = plt.subplots(1,1, figsize=(10,8))\n",
    "\n",
    "__ = doTheDoubleFit(data2weekTOP,5, ax=ax)\n",
    "__ = doTheFit(data2weekTOP,tail_threshold, ax=ax)\n",
    "#tau_minus = ((1./tau_total) - (1./tau_plus))**-1\n",
    "#print 'The NEGATIVE MUON lifetime obtained is %.3f mu s'%tau_minus\n",
    "x= np.linspace(1e-7, 10e-6, 1000)\n",
    "\n",
    "#ax.plot(x,5.10259278e+03*np.exp(-x/(2.2e-6)), label = '$\\\\tau = 2.2 \\mu s$', lw=5)\n",
    "#ax.plot(x,5.10259278e+03*np.exp(-x/(0.15e-6)), label = '$\\\\tau = 0.15 \\mu s$', lw=5)\n",
    "#ax.plot(x,5.10259278e+03*np.exp(-x*((2.2e-6)**-1 + (0.15e-6)**-1)), label = '$\\\\tau = total \\mu s$', lw=5)\n",
    "plt.legend(loc=0, fontsize=19)\n",
    "plt.gcf()\n",
    "plt.savefig('TopNoBDoubleExp.png', dpi=300)"
   ]
  },
  {
   "cell_type": "markdown",
   "metadata": {},
   "source": [
    "# Fit data for $g$-factor"
   ]
  },
  {
   "cell_type": "code",
   "execution_count": null,
   "metadata": {},
   "outputs": [],
   "source": [
    "def g(w):\n",
    "    return w*2*(206.8*m_e)/(e*4e-3)\n",
    "\n",
    "def doGFit(data, tau, guess = [1000.,3e6, 1./3, 1., 3.], th = 0,ax = ax, removeBkg=5, subs_bkg=False, correct = False):\n",
    "    def f(x, a, w, d, e,b):\n",
    "        return a*np.exp(x*(-tau)**-1)*(1.+d*np.cos(w*x-e)) + b\n",
    "    y =data[th:,1]\n",
    "    sy = sum(y)\n",
    "    x= data[th:,0]\n",
    "    dummy_y = np.copy(y)\n",
    "    y=y[abs(dummy_y)!=0]\n",
    "    x=x[abs(dummy_y)!=0]\n",
    "    print x\n",
    "    scale =1.\n",
    "    bkg = sy*bkg_interpF(x)/scale\n",
    "    if subs_bkg:\n",
    "        y = np.copy(y)- bkg\n",
    "        removeBkg = 0\n",
    "\n",
    "    if correct:\n",
    "        x, y = removeBackgroundPeaks(bkg, x, y, removeBkg)\n",
    "    print 'The number of counts is %i'%(sum(y*scale))\n",
    "    ax.plot(x*1e6,y, 'ok', markersize=7)\n",
    "\n",
    "    popt, pcov = curve_fit(f, x, y, guess, method='lm')#, bounds=([0, 0, 0,-np.inf, 0], [np.inf, np.inf, 1.,np.inf, np.inf]))\n",
    "    #print pcov\n",
    "    perr = np.sqrt(np.diag(pcov))\n",
    "\n",
    "    chisqd = chisq(y, f(x, *popt), len(guess))\n",
    "\n",
    "    print 'Parameters: ', popt\n",
    "    t = np.linspace(x[0], x[-1], 100)\n",
    "    #print 'The muon lifetime obtained is %.3f mus'%(-popt[1]**-1 * 1e6)\n",
    "    #print 'The Larmor frequency obtained is %.3f rad/s'%(popt[1])\n",
    "    #print 'The g obtained is %.3f'%(abs(popt[1])*2*(206.8*m_e)/(e*4e-3))\n",
    "    #print 'The background level is estimated to be %.2f of the total'%popt[-1]\n",
    "\n",
    "    #ax.plot(x, bkg, 'ok')\n",
    "    print 'Chi sq = %.3f'%chisq(y, f(x, *popt), len(guess))\n",
    "    larmor_w = ufloat(popt[1], perr[1])\n",
    "    obt_g = g(larmor_w)\n",
    "    print obt_g\n",
    "    ax.plot(t*1e6, f(t, *popt), label = '$\\omega_L = (%.2f\\pm %.2f)\\\\times 10^6  rad/s$\\n$ g=%.3f\\pm%.3f$\\n$\\chi^2/$dof$=%.2f$'%(popt[1]*1e-6, perr[1]*1e-6,obt_g.n, obt_g.s, chisqd), lw = 5)\n",
    "    #ax.plot(t, popt[0]*np.exp(-t/(2.008e-6))*(1+popt[2]*np.cos(3.4e6*t)+popt[-2])+popt[-1])\n",
    "    #ax.plot(t, popt[0]*np.exp(-t/(0.15e-6))+popt[-1])\n",
    "    print 'The errors in the fit are ', perr\n",
    "    [tick.label.set_fontsize(19) for tick in ax.xaxis.get_major_ticks()]\n",
    "    [tick.label.set_fontsize(19) for tick in ax.yaxis.get_major_ticks()]\n",
    "    plt.legend(loc=0, fontsize=19)\n",
    "    ax.set_xlabel('$t(\\mu s)$', fontsize=20)\n",
    "    ax.set_ylabel('Number of events', fontsize=20)\n",
    "    return 0"
   ]
  },
  {
   "cell_type": "markdown",
   "metadata": {},
   "source": [
    "## Bottom"
   ]
  },
  {
   "cell_type": "code",
   "execution_count": null,
   "metadata": {},
   "outputs": [],
   "source": [
    "data_stop = np.loadtxt('Muons2018/muon1wBTOP--00001.txt',  delimiter = ';', skiprows = 5, dtype=float)\n",
    "data_sbottom = np.loadtxt('Muons2018/muon1wBBOTTOM--00001.txt' , delimiter = ';', skiprows = 5, dtype=float)\n",
    "fig, ax = plt.subplots(1,1, figsize = (10,8))\n",
    "doGFit(data_sbottom, tau_sing_all,th = 0,ax = ax, removeBkg=0)\n",
    "doGFit(data_sbottom, tau_sing_tail,th = tail_threshold,ax = ax, removeBkg=0)\n",
    "plt.gcf()\n",
    "plt.savefig('BottomWithB2in1.png', dpi=300)"
   ]
  },
  {
   "cell_type": "code",
   "execution_count": null,
   "metadata": {},
   "outputs": [],
   "source": [
    "fig, ax = plt.subplots(1,1, figsize = (10,8))\n",
    "doGFit(data_sbottom, tau_sing_all,th = 0,ax = ax)\n",
    "plt.gcf()\n",
    "plt.savefig('BottomWithB.png', dpi=300)"
   ]
  },
  {
   "cell_type": "code",
   "execution_count": null,
   "metadata": {},
   "outputs": [],
   "source": [
    "\n",
    "fig, ax = plt.subplots(1,1, figsize = (10,8))\n",
    "doGFit(data_sbottom, tau_sing_tail,th = tail_threshold,ax = ax)\n",
    "plt.savefig('BottomWithBTail.png', dpi=300)"
   ]
  },
  {
   "cell_type": "markdown",
   "metadata": {},
   "source": [
    "## Top"
   ]
  },
  {
   "cell_type": "code",
   "execution_count": null,
   "metadata": {},
   "outputs": [],
   "source": [
    "data_stop = np.loadtxt('Muons2018/muon1wBTOP--00001.txt',  delimiter = ';', skiprows = 7, dtype=float)\n",
    "data_sbottom = np.loadtxt('Muons2018/muon1wBBOTTOM--00001.txt' , delimiter = ';', skiprows = 5, dtype=float)\n",
    "fig, ax = plt.subplots(1,1, figsize = (10,8))\n",
    "doGFit(data_stop, tau_sing_all,th = 0,ax = ax, correct=True, removeBkg=6)\n",
    "doGFit(data_stop, tau_sing_tail,th = tail_threshold,ax = ax)\n",
    "plt.gcf()\n",
    "plt.savefig('TopWithB2in1.png', dpi=300)"
   ]
  },
  {
   "cell_type": "markdown",
   "metadata": {},
   "source": [
    "# Other plots for report"
   ]
  },
  {
   "cell_type": "code",
   "execution_count": null,
   "metadata": {},
   "outputs": [],
   "source": [
    "def extractXY(data):\n",
    "    return data[:,0], data[:,1]"
   ]
  },
  {
   "cell_type": "markdown",
   "metadata": {},
   "source": [
    "## Raw initial data"
   ]
  },
  {
   "cell_type": "code",
   "execution_count": null,
   "metadata": {},
   "outputs": [],
   "source": []
  },
  {
   "cell_type": "code",
   "execution_count": null,
   "metadata": {},
   "outputs": [],
   "source": [
    "data2weekOK = np.loadtxt('Muons2018/muon2weekOK--00000.txt', delimiter = ';', skiprows = 5)\n",
    "data_stop = np.loadtxt('Muons2018/muon1wBTOP--00001.txt',  delimiter = ';', skiprows = 5, dtype=float)\n",
    "data_sbottom = np.loadtxt('Muons2018/muon1wBBOTTOM--00001.txt' , delimiter = ';', skiprows = 5, dtype=float)\n",
    "fig, ax = plt.subplots(1,1, figsize=(10,8))\n",
    "x_init = data2weekOK[:,0]\n",
    "y_init = data2weekOK[:,1]\n",
    "ax.plot(x_init*1e6, y_init, 'o-b', markersize = 9, label = 'Initial data')\n",
    "\n",
    "x_top, y_top = data_stop[:,0], data_stop[:,1]\n",
    "ax.plot(x_top*1e6, y_top, 's-r', markersize = 9, label = 'Top PMTs')\n",
    "\n",
    "x_bottom, y_bottom = data_sbottom[:,0], data_sbottom[:,1]\n",
    "ax.plot(x_bottom*1e6, y_bottom, '^-k', markersize = 9, label = 'Bottom PMTs')\n",
    "\n",
    "\n",
    "ax.set_yscale('log')\n",
    "plt.xlim(-1,12)\n",
    "preetyPlot(ax)\n",
    "plt.savefig('AllMeasurementsNoB.png', dpi=300)"
   ]
  },
  {
   "cell_type": "code",
   "execution_count": null,
   "metadata": {},
   "outputs": [],
   "source": []
  },
  {
   "cell_type": "code",
   "execution_count": null,
   "metadata": {},
   "outputs": [],
   "source": []
  }
 ],
 "metadata": {
  "kernelspec": {
   "display_name": "Python 2",
   "language": "python",
   "name": "python2"
  },
  "language_info": {
   "codemirror_mode": {
    "name": "ipython",
    "version": 2
   },
   "file_extension": ".py",
   "mimetype": "text/x-python",
   "name": "python",
   "nbconvert_exporter": "python",
   "pygments_lexer": "ipython2",
   "version": "2.7.14"
  }
 },
 "nbformat": 4,
 "nbformat_minor": 2
}
