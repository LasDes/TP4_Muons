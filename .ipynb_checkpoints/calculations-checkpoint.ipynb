{
 "cells": [
  {
   "cell_type": "code",
   "execution_count": 1,
   "metadata": {},
   "outputs": [],
   "source": [
    "import numpy as np\n",
    "import matplotlib.pyplot as plt\n",
    "from scipy.constants import *"
   ]
  },
  {
   "cell_type": "markdown",
   "metadata": {},
   "source": [
    "From Wikipedia, the Bethe-Bloch formula is given by \n",
    "$$- \\left\\langle\\frac{dE}{dx}\\right\\rangle = \\frac{4 \\pi}{m_e c^2} \\frac{nz^2}{\\beta^2}\\left(\\frac{e^2}{4\\pi\\varepsilon_0}\\right)^2 \\left[\\ln \\left(\\frac{2m_e c^2 \\beta^2}{I  (1-\\beta^2)}\\right) - \\beta^2\\right]$$\n",
    "\n",
    "where $n = \\frac{N_AZ\\rho}{A}$ and $I_{Cu}/Z_{Cu} = 11 eV$, $I_{C}/Z_{C} = 15 eV$."
   ]
  },
  {
   "cell_type": "code",
   "execution_count": 2,
   "metadata": {},
   "outputs": [],
   "source": [
    "def electronDensity(Z, rho, A):\n",
    "    return N_A * Z * rho /(A*1.)\n",
    "\n",
    "def betheBlochFormula(n, z, I, beta = 0.9998):\n",
    "    toreturn = 4*np.pi/(m_e*c**2) * n*z**2 /(beta**2) * (e**2/(4*np.pi*epsilon_0))**2\\\n",
    "    * (np.log(2*m_e*c**2*beta**2/(I*(1-beta**2)))-beta**2)\n",
    "    return -1*toreturn"
   ]
  },
  {
   "cell_type": "code",
   "execution_count": 3,
   "metadata": {},
   "outputs": [],
   "source": [
    "copper_density = 8920. #kg/m3\n",
    "plastic_density = 940. #kg/m3  Low/High density Polyethilene\n",
    "copper_I = 11*29*e #Joules\n",
    "plastic_I = 15*6*e #Joules\n",
    "copper_elec_dens = electronDensity(29, copper_density, 63.54)\n",
    "plastic_elec_dens = electronDensity(6, plastic_density, 12)"
   ]
  },
  {
   "cell_type": "code",
   "execution_count": 4,
   "metadata": {},
   "outputs": [
    {
     "name": "stdout",
     "output_type": "stream",
     "text": [
      "For Cu 1.86298756486643 MeV\n",
      "For C (Plastic) 0.23334606184953993 MeV\n"
     ]
    }
   ],
   "source": [
    "print 'For Cu', -betheBlochFormula(copper_elec_dens, 1, copper_I)/e *1e-6, 'MeV'\n",
    "print 'For C (Plastic)', -betheBlochFormula(plastic_elec_dens, 1, plastic_I)/e *1e-6, 'MeV'"
   ]
  },
  {
   "cell_type": "markdown",
   "metadata": {},
   "source": [
    "# Initial calibration with unknown threshold"
   ]
  },
  {
   "cell_type": "code",
   "execution_count": 5,
   "metadata": {},
   "outputs": [],
   "source": [
    "import pandas as pd\n",
    "from scipy import stats\n",
    "from scipy.optimize import fsolve\n"
   ]
  },
  {
   "cell_type": "code",
   "execution_count": 6,
   "metadata": {},
   "outputs": [],
   "source": [
    "raw_data = pd.read_excel('PMT_calib_fixed.xlsx')\n",
    "\n",
    "def extract_data(r_data, PMT_num):\n",
    "    PMT_data = r_data[r_data['PMT']==PMT_num]\n",
    "    PMT_data = PMT_data.drop('PMT', axis=1)\n",
    "    PMT_data = PMT_data.set_index(PMT_data['Voltage [V]'])\n",
    "    PMT_data = PMT_data.sort_values('Voltage [V]')\n",
    "    PMT_matrix = PMT_data.as_matrix()\n",
    "    return PMT_matrix"
   ]
  },
  {
   "cell_type": "code",
   "execution_count": 7,
   "metadata": {},
   "outputs": [],
   "source": [
    "matrices = [extract_data(raw_data, i) for i in range(1, 5)]"
   ]
  },
  {
   "cell_type": "code",
   "execution_count": 8,
   "metadata": {},
   "outputs": [],
   "source": [
    "def line(x, m, b, des):\n",
    "    return m*x + b - des\n",
    "\n",
    "def get_calibrating_voltage(PMT_matrix, desired_count):\n",
    "    V_data = PMT_matrix[:,0]\n",
    "    count_data = PMT_matrix[:,1]\n",
    "    log_count_data = np.log(count_data)\n",
    "    V_mask=[v<=2.3 and v>=2 for v in V_data]\n",
    "    V_data = V_data[V_mask]\n",
    "    log_count_data = log_count_data[V_mask]\n",
    "    plt.plot(V_data, log_count_data)\n",
    "    slope, intercept, r_value, p_value, std_err = stats.linregress(V_data, log_count_data)\n",
    "    plt.plot(np.linspace(2, 2.4, 100), slope*np.linspace(2, 2.4, 100)+intercept)\n",
    "    print slope, intercept\n",
    "    return fsolve(line, 2, (slope, intercept, desired_count))\n",
    "    "
   ]
  },
  {
   "cell_type": "code",
   "execution_count": 9,
   "metadata": {},
   "outputs": [
    {
     "name": "stdout",
     "output_type": "stream",
     "text": [
      "10.958842155377365 -13.956723702263885\n",
      "9.726194692053483 -12.396849923273296\n",
      "11.976162611056242 -17.19367575838576\n",
      "11.512213778591176 -15.755479007997733\n"
     ]
    },
    {
     "data": {
      "text/plain": [
       "[(1, 2.1404381384172018),\n",
       " (2, 2.2513275352346698),\n",
       " (3, 2.2289005773637784),\n",
       " (4, 2.193798646700288)]"
      ]
     },
     "execution_count": 9,
     "metadata": {},
     "output_type": "execute_result"
    },
    {
     "data": {
      "image/png": "[encoded data removed]",
      "text/plain": [
       "<matplotlib.figure.Figure at 0x7efd32b34410>"
      ]
     },
     "metadata": {},
     "output_type": "display_data"
    }
   ],
   "source": [
    "[(i+1,get_calibrating_voltage(matrix, 9.5)[0]) for i, matrix in enumerate(matrices)]"
   ]
  },
  {
   "cell_type": "markdown",
   "metadata": {},
   "source": [
    "# Calibración Threshold"
   ]
  },
  {
   "cell_type": "code",
   "execution_count": 10,
   "metadata": {},
   "outputs": [
    {
     "name": "stdout",
     "output_type": "stream",
     "text": [
      "    Threshold (V)  Counts (10s) source  Counts (10s) no source\n",
      "31           0.29                84670                   16311\n",
      "30           1.07                53838                    8590\n",
      "29           1.22                46825                    6775\n",
      "28           1.43                39568                    5306\n",
      "27           1.64                34844                    4272\n",
      "26           1.83                32054                    3568\n",
      "25           1.98                30379                    3238\n",
      "24           2.11                28973                    3148\n",
      "23           2.25                27921                    2838\n",
      "22           2.38                26928                    2648\n",
      "21           2.60                25892                    2624\n",
      "20           2.70                25353                    2384\n",
      "19           2.89                24518                    2173\n",
      "18           3.03                24256                    2073\n",
      "17           3.19                23269                    2117\n",
      "16           3.50                22387                    1835\n",
      "15           3.72                21645                    1682\n",
      "14           3.92                21162                    1655\n",
      "13           4.22                19925                    1533\n",
      "12           4.54                19486                    1595\n",
      "11           4.80                18516                    1404\n",
      "10           5.08                17759                    1372\n",
      "8            5.27                17595                    1373\n",
      "9            5.52                16666                    1272\n",
      "7            5.71                16202                    1244\n",
      "6            6.13                15399                    1122\n",
      "5            6.49                14594                    1028\n",
      "4            6.92                13599                     993\n",
      "3            7.52                12046                     916\n",
      "2            8.42                10326                     753\n",
      "1            9.60                 8054                     642\n",
      "0           10.25                 7078                     628\n"
     ]
    },
    {
     "data": {
      "image/png": "[encoded data removed]",
      "text/plain": [
       "<matplotlib.figure.Figure at 0x7efd29ee7210>"
      ]
     },
     "metadata": {},
     "output_type": "display_data"
    }
   ],
   "source": [
    "raw_data = pd.read_excel('Threshold_calib.xlsx')\n",
    "raw_data= raw_data.sort_values('Threshold (V)')\n",
    "mat = raw_data.as_matrix()\n",
    "plt.plot(mat[:,0], mat[:,1], 'ob', label='Source')\n",
    "plt.plot(mat[:,0], mat[:,2], 'or', label='No Source')\n",
    "plt.legend(loc=0)\n",
    "print raw_data"
   ]
  },
  {
   "cell_type": "code",
   "execution_count": 11,
   "metadata": {},
   "outputs": [
    {
     "data": {
      "text/plain": [
       "[<matplotlib.lines.Line2D at 0x7efd29de9510>]"
      ]
     },
     "execution_count": 11,
     "metadata": {},
     "output_type": "execute_result"
    },
    {
     "data": {
      "image/png": "[encoded data removed]",
      "text/plain": [
       "<matplotlib.figure.Figure at 0x7efd2a34fc10>"
      ]
     },
     "metadata": {},
     "output_type": "display_data"
    }
   ],
   "source": [
    "plt.plot(mat[:,1], mat[:,2], 'or', label='Source vs. No Source')"
   ]
  },
  {
   "cell_type": "code",
   "execution_count": 12,
   "metadata": {},
   "outputs": [
    {
     "data": {
      "text/plain": [
       "[<matplotlib.lines.Line2D at 0x7efd29d6c890>]"
      ]
     },
     "execution_count": 12,
     "metadata": {},
     "output_type": "execute_result"
    },
    {
     "data": {
      "image/png": "[encoded data removed]",
      "text/plain": [
       "<matplotlib.figure.Figure at 0x7efd29e92250>"
      ]
     },
     "metadata": {},
     "output_type": "display_data"
    }
   ],
   "source": [
    "plt.plot(mat[:,0], mat[:,1]-mat[:,2], 'or', label='Source - No Source')\n"
   ]
  },
  {
   "cell_type": "markdown",
   "metadata": {},
   "source": [
    "+ Compton scattering: Relation between incoming photon and electron energy\n",
    "+ Muon decay products' energy\n",
    "+ More precise threshold measurements\n"
   ]
  },
  {
   "cell_type": "code",
   "execution_count": 13,
   "metadata": {},
   "outputs": [],
   "source": [
    "def electron_E(E_gamma):\n",
    "    return E_gamma*(1-1./(1+2*(E_gamma/(511e-3))))"
   ]
  },
  {
   "cell_type": "code",
   "execution_count": 14,
   "metadata": {},
   "outputs": [
    {
     "name": "stdout",
     "output_type": "stream",
     "text": [
      "[0.9602946334619431, 1.115673289183223] MeV\n"
     ]
    }
   ],
   "source": [
    "gamma_energies = [1.17, 1.33]\n",
    "print [electron_E(E) for E in gamma_energies], 'MeV'"
   ]
  },
  {
   "cell_type": "markdown",
   "metadata": {},
   "source": [
    "# Cumulative Spectrum"
   ]
  },
  {
   "cell_type": "code",
   "execution_count": 35,
   "metadata": {},
   "outputs": [
    {
     "name": "stdout",
     "output_type": "stream",
     "text": [
      "[[  40.05185545   79.46223396]\n",
      " [  43.23448388  149.3218865 ]\n",
      " [  46.4171123   244.2255654 ]\n",
      " [  49.59974072  329.9024977 ]\n",
      " [  68.69551126  422.9608273 ]\n",
      " [  89.38259601  500.3776246 ]\n",
      " [ 111.660995    561.170301  ]\n",
      " [ 146.6699076   501.4960181 ]\n",
      " [ 181.6788203   532.4116105 ]\n",
      " [ 216.6877329   558.7737435 ]\n",
      " [ 246.922703    597.4781479 ]\n",
      " [ 262.8358451   660.7472671 ]\n",
      " [ 270.7924161   727.9707064 ]\n",
      " [ 293.3890779   798.6212229 ]\n",
      " [ 289.8881867   838.6916651 ]\n",
      " [ 323.3057851   699.6314134 ]\n",
      " [ 345.5841841   646.248094  ]\n",
      " [ 372.6365257   583.4582862 ]\n",
      " [ 407.6454383   560.211678  ]\n",
      " [ 442.654351    532.4116105 ]\n",
      " [ 477.6632637   512.0408713 ]\n",
      " [ 512.6721763   498.620149  ]\n",
      " [ 547.681089    516.1150191 ]\n",
      " [ 582.6900016   525.7012493 ]\n",
      " [ 617.6989143   501.0167066 ]\n",
      " [ 652.7078269   522.8253803 ]\n",
      " [ 687.7167396   508.6856907 ]\n",
      " [ 722.7256522   515.6357076 ]\n",
      " [ 757.7345649   531.4529874 ]\n",
      " [ 792.7434776   538.4030043 ]\n",
      " [ 827.7523902   559.253055  ]\n",
      " [ 862.7613029   578.9048269 ]\n",
      " [ 897.7702155   619.1669937 ]\n",
      " [ 932.7791282   605.0273042 ]\n",
      " [ 956.6488414   550.6853618 ]\n",
      " [ 975.7446119   480.8257093 ]\n",
      " [1002.399125    401.7393102 ]\n",
      " [1028.894507    371.5546679 ]\n",
      " [1063.266894    336.1335473 ]\n",
      " [1098.275806    292.0368884 ]\n",
      " [1120.554205    281.5719205 ]\n",
      " [1416.538649     40.63800169]\n",
      " [1451.547561     27.21727942]\n",
      " [1486.556474     20.26726254]\n",
      " [1521.565386     21.46554131]\n",
      " [1548.617728     19.1222406 ]]\n"
     ]
    },
    {
     "data": {
      "image/png": "[encoded data removed]",
      "text/plain": [
       "<matplotlib.figure.Figure at 0x7efd296e6750>"
      ]
     },
     "metadata": {},
     "output_type": "display_data"
    }
   ],
   "source": [
    "from scipy import interpolate\n",
    "spectrum = np.loadtxt('Co_Spectrum.csv', delimiter =',')\n",
    "print spectrum\n",
    "def cumulate_spectrum(spectrum):\n",
    "    evaluate_spectrum = interpolate.interp1d(spectrum[:,0], spectrum[:,1], kind='cubic')\n",
    "    x = np.linspace(spectrum[:,0][0], spectrum[:,0][-1], 100)\n",
    "decumulate_spectrum(spectrum)"
   ]
  },
  {
   "cell_type": "code",
   "execution_count": 17,
   "metadata": {},
   "outputs": [],
   "source": [
    "#This function can either print or store the markov chain. For parallel computing it is easier to print.\n",
    "def MH_Spectrum_Sampling(spectrum, niter):\n",
    "    evaluate_spectrum = interpolate.interp1d(spectrum[:,0], spectrum[:,1])\n",
    "    markov_chain=[]\n",
    "    max_interval=spectrum[:,0][-1]\n",
    "    initial_value=max_interval*np.random.random()\n",
    "    #print initial_value\n",
    "    markov_chain.append(initial_value)\n",
    "    for i in range(niter):\n",
    "        std = 10**(np.log10(spectrum[:,0][-1]))\n",
    "        to_try = np.random.normal(markov_chain[i], std)\n",
    "        while(to_try<spectrum[:,0][0] or to_try>spectrum[:,0][-1]):\n",
    "            to_try = np.random.normal(markov_chain[i], std)\n",
    "        possible_jump=to_try\n",
    "        criteria = evaluate_spectrum(possible_jump)/evaluate_spectrum(markov_chain[i])\n",
    "        if(criteria>=1.):\n",
    "            #print abs(possible_jump)\n",
    "            markov_chain.append(abs(possible_jump))\n",
    "        else:\n",
    "            other_random = np.random.random()\n",
    "            if(other_random<=criteria):\n",
    "                #print possible_jump\n",
    "                markov_chain.append(possible_jump)\n",
    "            else:\n",
    "                #print markov_chain[i]\n",
    "                markov_chain.append(markov_chain[i])\n",
    "    return np.array(markov_chain)"
   ]
  },
  {
   "cell_type": "code",
   "execution_count": 60,
   "metadata": {
    "scrolled": true
   },
   "outputs": [],
   "source": [
    "raw_data_Co = pd.read_excel('Threshold_calib.xlsx')\n",
    "\n",
    "def decumulate_measured_spectrum(raw_data, kind):\n",
    "    raw_data= raw_data.sort_values('Threshold (V)')\n",
    "    mat = raw_data.as_matrix()\n",
    "    measured_spectrum = np.column_stack((mat[:,0], mat[:,1]-mat[:,2]))\n",
    "    evaluate_measured_spectrum = interpolate.interp1d(measured_spectrum[:,0], measured_spectrum[:,1], kind = kind)\n",
    "    freqs = evaluate_measured_spectrum(np.linspace(0.29, 10.24, 100))\n",
    "    uncumulated = [freqs[i]-freqs[i+1] for i in range(len(freqs)-1)]\n",
    "    return np.linspace(0.29, 10.24, 100)[:-1], uncumulated"
   ]
  },
  {
   "cell_type": "code",
   "execution_count": 61,
   "metadata": {},
   "outputs": [],
   "source": [
    "x, y = decumulate_measured_spectrum(raw_data_Co, 'linear')"
   ]
  },
  {
   "cell_type": "code",
   "execution_count": 62,
   "metadata": {},
   "outputs": [
    {
     "data": {
      "text/plain": [
       "[<matplotlib.lines.Line2D at 0x7efd292f4ad0>]"
      ]
     },
     "execution_count": 62,
     "metadata": {},
     "output_type": "execute_result"
    },
    {
     "data": {
      "image/png": "[encoded data removed]",
      "text/plain": [
       "<matplotlib.figure.Figure at 0x7efd293be310>"
      ]
     },
     "metadata": {},
     "output_type": "display_data"
    }
   ],
   "source": [
    "plt.plot(x, y)"
   ]
  },
  {
   "cell_type": "markdown",
   "metadata": {},
   "source": [
    "plt.plot(x, y)"
   ]
  },
  {
   "cell_type": "code",
   "execution_count": null,
   "metadata": {},
   "outputs": [],
   "source": []
  }
 ],
 "metadata": {
  "kernelspec": {
   "display_name": "Python 2",
   "language": "python",
   "name": "python2"
  },
  "language_info": {
   "codemirror_mode": {
    "name": "ipython",
    "version": 2
   },
   "file_extension": ".py",
   "mimetype": "text/x-python",
   "name": "python",
   "nbconvert_exporter": "python",
   "pygments_lexer": "ipython2",
   "version": "2.7.14"
  }
 },
 "nbformat": 4,
 "nbformat_minor": 2
}
