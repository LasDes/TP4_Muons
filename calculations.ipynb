{
 "cells": [
  {
   "cell_type": "code",
   "execution_count": 1,
   "metadata": {},
   "outputs": [],
   "source": [
    "import numpy as np\n",
    "import matplotlib.pyplot as plt\n",
    "from scipy.constants import *"
   ]
  },
  {
   "cell_type": "markdown",
   "metadata": {},
   "source": [
    "From Wikipedia, the Bethe-Bloch formula is given by \n",
    "$$- \\left\\langle\\frac{dE}{dx}\\right\\rangle = \\frac{4 \\pi}{m_e c^2} \\frac{nz^2}{\\beta^2}\\left(\\frac{e^2}{4\\pi\\varepsilon_0}\\right)^2 \\left[\\ln \\left(\\frac{2m_e c^2 \\beta^2}{I  (1-\\beta^2)}\\right) - \\beta^2\\right]$$\n",
    "\n",
    "where $n = \\frac{N_AZ\\rho}{A}$ and $I_{Cu}/Z_{Cu} = 11 eV$, $I_{C}/Z_{C} = 15 eV$."
   ]
  },
  {
   "cell_type": "code",
   "execution_count": 2,
   "metadata": {},
   "outputs": [],
   "source": [
    "def electronDensity(Z, rho, A):\n",
    "    return N_A * Z * rho /(A*1.)\n",
    "\n",
    "def betheBlochFormula(n, z, I, beta = 0.9998):\n",
    "    toreturn = 4*np.pi/(m_e*c**2) * n*z**2 /(beta**2) * (e**2/(4*np.pi*epsilon_0))**2\\\n",
    "    * (np.log(2*m_e*c**2*beta**2/(I*(1-beta**2)))-beta**2)\n",
    "    return -1*toreturn"
   ]
  },
  {
   "cell_type": "code",
   "execution_count": 3,
   "metadata": {},
   "outputs": [],
   "source": [
    "copper_density = 8920. #kg/m3\n",
    "plastic_density = 940. #kg/m3  Low/High density Polyethilene\n",
    "copper_I = 11*29*e #Joules\n",
    "plastic_I = 15*6*e #Joules\n",
    "copper_elec_dens = electronDensity(29, copper_density, 63.54)\n",
    "plastic_elec_dens = electronDensity(6, plastic_density, 12)"
   ]
  },
  {
   "cell_type": "code",
   "execution_count": 4,
   "metadata": {},
   "outputs": [
    {
     "name": "stdout",
     "output_type": "stream",
     "text": [
      "For Cu 1.86298756486643 MeV\n",
      "For C (Plastic) 0.23334606184953993 MeV\n"
     ]
    }
   ],
   "source": [
    "print 'For Cu', -betheBlochFormula(copper_elec_dens, 1, copper_I)/e *1e-6, 'MeV'\n",
    "print 'For C (Plastic)', -betheBlochFormula(plastic_elec_dens, 1, plastic_I)/e *1e-6, 'MeV'"
   ]
  },
  {
   "cell_type": "markdown",
   "metadata": {},
   "source": [
    "# Initial calibration with unknown threshold"
   ]
  },
  {
   "cell_type": "code",
   "execution_count": 5,
   "metadata": {},
   "outputs": [],
   "source": [
    "import pandas as pd\n",
    "from scipy import stats\n",
    "from scipy.optimize import fsolve\n"
   ]
  },
  {
   "cell_type": "code",
   "execution_count": 6,
   "metadata": {},
   "outputs": [],
   "source": [
    "raw_data = pd.read_excel('Calib_PMT_2.xlsx')\n",
    "\n",
    "def extract_data(r_data, PMT_num):\n",
    "    PMT_data = r_data[r_data['PMT']==PMT_num]\n",
    "    PMT_data = PMT_data.drop('PMT', axis=1)\n",
    "    PMT_data = PMT_data.set_index(PMT_data['Voltage (kV)'])\n",
    "    PMT_data = PMT_data.sort_values('Voltage (kV)')\n",
    "    PMT_matrix = PMT_data.as_matrix()\n",
    "    return PMT_matrix"
   ]
  },
  {
   "cell_type": "code",
   "execution_count": 7,
   "metadata": {},
   "outputs": [],
   "source": [
    "matrices = [extract_data(raw_data, i) for i in range(1, 5)]"
   ]
  },
  {
   "cell_type": "code",
   "execution_count": 8,
   "metadata": {},
   "outputs": [],
   "source": [
    "def line(x, m, b, des):\n",
    "    return m*x + b - des\n",
    "\n",
    "def get_calibrating_voltage(PMT_matrix, desired_count, pmt):\n",
    "    V_data = PMT_matrix[:,0]\n",
    "    count_data = PMT_matrix[:,1]\n",
    "    log_count_data = np.log(count_data)\n",
    "    V_mask=[v<=2.3 and v>=2 for v in V_data]\n",
    "    V_data = V_data[V_mask]\n",
    "    log_count_data = log_count_data[V_mask]\n",
    "    plt.plot(V_data, log_count_data, label = 'PMT %i'%pmt)\n",
    "    slope, intercept, r_value, p_value, std_err = stats.linregress(V_data, log_count_data)\n",
    "    #plt.plot(np.linspace(2, 2.4, 100), slope*np.linspace(2, 2.4, 100)+intercept)\n",
    "    #print slope, intercept\n",
    "    plt.legend()\n",
    "    return fsolve(line, 2, (slope, intercept, desired_count))\n",
    "    "
   ]
  },
  {
   "cell_type": "code",
   "execution_count": 9,
   "metadata": {},
   "outputs": [
    {
     "data": {
      "text/plain": [
       "[(1, 2.1082778969534695),\n",
       " (2, 2.2027458287991655),\n",
       " (3, 2.2116789097191427),\n",
       " (4, 2.1546906290888024)]"
      ]
     },
     "execution_count": 9,
     "metadata": {},
     "output_type": "execute_result"
    },
    {
     "data": {
      "image/png": "[encoded data removed]",
      "text/plain": [
       "<matplotlib.figure.Figure at 0x7f9d7d830f50>"
      ]
     },
     "metadata": {},
     "output_type": "display_data"
    }
   ],
   "source": [
    "[(i+1,get_calibrating_voltage(matrix, 8.5, i+1)[0]) for i, matrix in enumerate(matrices)]"
   ]
  },
  {
   "cell_type": "markdown",
   "metadata": {},
   "source": [
    "# Calibración Threshold"
   ]
  },
  {
   "cell_type": "code",
   "execution_count": 10,
   "metadata": {},
   "outputs": [
    {
     "name": "stdout",
     "output_type": "stream",
     "text": [
      "    Threshold (V)  Counts (10s) source  Counts (10s) no source\n",
      "31           0.29                84670                   16311\n",
      "30           1.07                53838                    8590\n",
      "29           1.22                46825                    6775\n",
      "28           1.43                39568                    5306\n",
      "27           1.64                34844                    4272\n",
      "26           1.83                32054                    3568\n",
      "25           1.98                30379                    3238\n",
      "24           2.11                28973                    3148\n",
      "23           2.25                27921                    2838\n",
      "22           2.38                26928                    2648\n",
      "21           2.60                25892                    2624\n",
      "20           2.70                25353                    2384\n",
      "19           2.89                24518                    2173\n",
      "18           3.03                24256                    2073\n",
      "17           3.19                23269                    2117\n",
      "16           3.50                22387                    1835\n",
      "15           3.72                21645                    1682\n",
      "14           3.92                21162                    1655\n",
      "13           4.22                19925                    1533\n",
      "12           4.54                19486                    1595\n",
      "11           4.80                18516                    1404\n",
      "10           5.08                17759                    1372\n",
      "8            5.27                17595                    1373\n",
      "9            5.52                16666                    1272\n",
      "7            5.71                16202                    1244\n",
      "6            6.13                15399                    1122\n",
      "5            6.49                14594                    1028\n",
      "4            6.92                13599                     993\n",
      "3            7.52                12046                     916\n",
      "2            8.42                10326                     753\n",
      "1            9.60                 8054                     642\n",
      "0           10.25                 7078                     628\n"
     ]
    },
    {
     "data": {
      "image/png": "[encoded data removed]",
      "text/plain": [
       "<matplotlib.figure.Figure at 0x7f9db24f6e10>"
      ]
     },
     "metadata": {},
     "output_type": "display_data"
    }
   ],
   "source": [
    "raw_data = pd.read_excel('Threshold_calib.xlsx')\n",
    "raw_data= raw_data.sort_values('Threshold (V)')\n",
    "mat = raw_data.as_matrix()\n",
    "plt.plot(mat[:,0], mat[:,1], 'ob', label='Source')\n",
    "plt.plot(mat[:,0], mat[:,2], 'or', label='No Source')\n",
    "plt.legend(loc=0)\n",
    "print raw_data"
   ]
  },
  {
   "cell_type": "code",
   "execution_count": 11,
   "metadata": {},
   "outputs": [
    {
     "data": {
      "text/plain": [
       "[<matplotlib.lines.Line2D at 0x7f9d74adffd0>]"
      ]
     },
     "execution_count": 11,
     "metadata": {},
     "output_type": "execute_result"
    },
    {
     "data": {
      "image/png": "[encoded data removed]",
      "text/plain": [
       "<matplotlib.figure.Figure at 0x7f9d74bdbc10>"
      ]
     },
     "metadata": {},
     "output_type": "display_data"
    }
   ],
   "source": [
    "plt.plot(mat[:,1], mat[:,2], 'or', label='Source vs. No Source')"
   ]
  },
  {
   "cell_type": "code",
   "execution_count": 12,
   "metadata": {},
   "outputs": [
    {
     "data": {
      "text/plain": [
       "[<matplotlib.lines.Line2D at 0x7f9d74a75390>]"
      ]
     },
     "execution_count": 12,
     "metadata": {},
     "output_type": "execute_result"
    },
    {
     "data": {
      "image/png": "[encoded data removed]",
      "text/plain": [
       "<matplotlib.figure.Figure at 0x7f9d74b0f810>"
      ]
     },
     "metadata": {},
     "output_type": "display_data"
    }
   ],
   "source": [
    "plt.plot(mat[:,0], mat[:,1]-mat[:,2], 'or', label='Source - No Source')\n"
   ]
  },
  {
   "cell_type": "markdown",
   "metadata": {},
   "source": [
    "+ Compton scattering: Relation between incoming photon and electron energy\n",
    "+ Muon decay products' energy\n",
    "+ More precise threshold measurements\n"
   ]
  },
  {
   "cell_type": "code",
   "execution_count": 13,
   "metadata": {},
   "outputs": [],
   "source": [
    "def electron_E(E_gamma):\n",
    "    return E_gamma*(1-1./(1+2*(E_gamma/(511e-3))))"
   ]
  },
  {
   "cell_type": "code",
   "execution_count": 14,
   "metadata": {},
   "outputs": [
    {
     "name": "stdout",
     "output_type": "stream",
     "text": [
      "[0.9602946334619431, 1.115673289183223] MeV\n"
     ]
    }
   ],
   "source": [
    "gamma_energies = [1.17, 1.33]\n",
    "print [electron_E(E) for E in gamma_energies], 'MeV'"
   ]
  },
  {
   "cell_type": "markdown",
   "metadata": {},
   "source": [
    "# Cumulative Spectrum"
   ]
  },
  {
   "cell_type": "code",
   "execution_count": 15,
   "metadata": {},
   "outputs": [
    {
     "data": {
      "text/plain": [
       "[<matplotlib.lines.Line2D at 0x7f9d749d1cd0>]"
      ]
     },
     "execution_count": 15,
     "metadata": {},
     "output_type": "execute_result"
    },
    {
     "data": {
      "image/png": "[encoded data removed]",
      "text/plain": [
       "<matplotlib.figure.Figure at 0x7f9db18e8190>"
      ]
     },
     "metadata": {},
     "output_type": "display_data"
    }
   ],
   "source": [
    "from scipy import interpolate\n",
    "spectrum = np.loadtxt('Co_Spectrum.csv', delimiter =',')\n",
    "def cumulate_spectrum(spectrum):\n",
    "    evaluate_spectrum = interpolate.interp1d(spectrum[:,0], spectrum[:,1], kind='cubic')\n",
    "    x = np.linspace(spectrum[:,0][0], spectrum[:,0][-1], 100)\n",
    "plt.plot(spectrum[:,0], spectrum[:,1])"
   ]
  },
  {
   "cell_type": "code",
   "execution_count": 16,
   "metadata": {},
   "outputs": [],
   "source": [
    "#This function can either print or store the markov chain. For parallel computing it is easier to print.\n",
    "def MH_Spectrum_Sampling(spectrum, niter):\n",
    "    evaluate_spectrum = interpolate.interp1d(spectrum[:,0], spectrum[:,1])\n",
    "    markov_chain=[]\n",
    "    max_interval=spectrum[:,0][-1]\n",
    "    initial_value=max_interval*np.random.random()\n",
    "    #print initial_value\n",
    "    markov_chain.append(initial_value)\n",
    "    for i in range(niter):\n",
    "        std = 10**(np.log10(spectrum[:,0][-1]))\n",
    "        to_try = np.random.normal(markov_chain[i], std)\n",
    "        while(to_try<spectrum[:,0][0] or to_try>spectrum[:,0][-1]):\n",
    "            to_try = np.random.normal(markov_chain[i], std)\n",
    "        possible_jump=to_try\n",
    "        criteria = evaluate_spectrum(possible_jump)/evaluate_spectrum(markov_chain[i])\n",
    "        if(criteria>=1.):\n",
    "            #print abs(possible_jump)\n",
    "            markov_chain.append(abs(possible_jump))\n",
    "        else:\n",
    "            other_random = np.random.random()\n",
    "            if(other_random<=criteria):\n",
    "                #print possible_jump\n",
    "                markov_chain.append(possible_jump)\n",
    "            else:\n",
    "                #print markov_chain[i]\n",
    "                markov_chain.append(markov_chain[i])\n",
    "    return np.array(markov_chain)"
   ]
  },
  {
   "cell_type": "code",
   "execution_count": 17,
   "metadata": {
    "scrolled": true
   },
   "outputs": [],
   "source": [
    "raw_data_Co = pd.read_excel('Threshold_calib.xlsx')\n",
    "\n",
    "def decumulate_measured_spectrum(raw, kind):\n",
    "    raw= raw.sort_values('Threshold (V)')\n",
    "    #display(raw)\n",
    "    mat = raw.as_matrix()\n",
    "    measured_spectrum = np.column_stack((mat[:,0], (mat[:,1]-mat[:,2])))\n",
    "    plt.scatter(measured_spectrum[:,0], measured_spectrum[:,1])\n",
    "    evaluate_measured_spectrum = interpolate.interp1d(measured_spectrum[:,0], measured_spectrum[:,1], kind = kind)\n",
    "    th_linsp = np.linspace(0.29, 10.24, 50)\n",
    "    freqs = evaluate_measured_spectrum(th_linsp)\n",
    "    #freqs = np.copy(measured_spectrum[:,1])\n",
    "    #th_linsp = np.copy(measured_spectrum[:,0])\n",
    "    plt.plot(th_linsp, freqs, 'or')\n",
    "    #plt.plot(th_linsp, (np.gradient(freqs)))\n",
    "\n",
    "    #uncumulated = [freqs[i]-freqs[i+1] for i in range(len(freqs)-1)]\n",
    "    uncumulated = np.diff(freqs)\n",
    "    return th_linsp[:-1], uncumulated/max(uncumulated)"
   ]
  },
  {
   "cell_type": "code",
   "execution_count": 18,
   "metadata": {},
   "outputs": [
    {
     "data": {
      "text/plain": [
       "Text(0.5,1,u'Co')"
      ]
     },
     "execution_count": 18,
     "metadata": {},
     "output_type": "execute_result"
    },
    {
     "data": {
      "image/png": "[encoded data removed]",
      "text/plain": [
       "<matplotlib.figure.Figure at 0x7f9d74a75a90>"
      ]
     },
     "metadata": {},
     "output_type": "display_data"
    }
   ],
   "source": [
    "x, y = decumulate_measured_spectrum(raw_data_Co, 'linear')\n",
    "plt.title('Co')"
   ]
  },
  {
   "cell_type": "code",
   "execution_count": 19,
   "metadata": {},
   "outputs": [
    {
     "data": {
      "text/plain": [
       "<matplotlib.collections.PathCollection at 0x7f9d74b5f650>"
      ]
     },
     "execution_count": 19,
     "metadata": {},
     "output_type": "execute_result"
    },
    {
     "data": {
      "image/png": "[encoded data removed]",
      "text/plain": [
       "<matplotlib.figure.Figure at 0x7f9d749f5bd0>"
      ]
     },
     "metadata": {},
     "output_type": "display_data"
    }
   ],
   "source": [
    "#%matplotlib notebook\n",
    "plt.scatter(x, y)"
   ]
  },
  {
   "cell_type": "markdown",
   "metadata": {},
   "source": [
    "plt.plot(x, y)"
   ]
  },
  {
   "cell_type": "code",
   "execution_count": 20,
   "metadata": {
    "scrolled": false
   },
   "outputs": [
    {
     "data": {
      "text/plain": [
       "Text(0.5,1,u'Cs')"
      ]
     },
     "execution_count": 20,
     "metadata": {},
     "output_type": "execute_result"
    },
    {
     "data": {
      "image/png": "[encoded data removed]",
      "text/plain": [
       "<matplotlib.figure.Figure at 0x7f9d749aead0>"
      ]
     },
     "metadata": {},
     "output_type": "display_data"
    }
   ],
   "source": [
    "raw_data_Cs = pd.read_excel('Threshold_calib_Cs.xlsx')\n",
    "x_Cs, y_Cs = decumulate_measured_spectrum(raw_data_Cs, 'linear')\n",
    "plt.title('Cs')"
   ]
  },
  {
   "cell_type": "code",
   "execution_count": 21,
   "metadata": {},
   "outputs": [
    {
     "data": {
      "text/plain": [
       "[<matplotlib.lines.Line2D at 0x7f9d750491d0>]"
      ]
     },
     "execution_count": 21,
     "metadata": {},
     "output_type": "execute_result"
    },
    {
     "data": {
      "image/png": "[encoded data removed]",
      "text/plain": [
       "<matplotlib.figure.Figure at 0x7f9d75049a90>"
      ]
     },
     "metadata": {},
     "output_type": "display_data"
    }
   ],
   "source": [
    "plt.plot(x_Cs, y_Cs, 'o-')\n",
    "plt.plot(x, y, 'or-')"
   ]
  },
  {
   "cell_type": "code",
   "execution_count": 22,
   "metadata": {},
   "outputs": [],
   "source": [
    "energies = [0.3, 0.95]\n",
    "threshold = [0.6, 1.2]\n",
    "m = (energies[1]-energies[0])/(threshold[1]-threshold[0])\n",
    "#plt.plot(threshold, energies)\n",
    "slope, intercept, r_value, p_value, std_err = stats.linregress(energies, threshold)"
   ]
  },
  {
   "cell_type": "code",
   "execution_count": 23,
   "metadata": {},
   "outputs": [
    {
     "name": "stdout",
     "output_type": "stream",
     "text": [
      "4.015384615384615\n"
     ]
    }
   ],
   "source": [
    "print slope*4+intercept"
   ]
  },
  {
   "cell_type": "code",
   "execution_count": 24,
   "metadata": {},
   "outputs": [],
   "source": [
    "slope, intercept, r_value, p_value, std_err = stats.linregress(threshold, energies)"
   ]
  },
  {
   "cell_type": "code",
   "execution_count": 25,
   "metadata": {},
   "outputs": [
    {
     "name": "stdout",
     "output_type": "stream",
     "text": [
      "4.525\n"
     ]
    }
   ],
   "source": [
    "print slope*4.5+intercept"
   ]
  },
  {
   "cell_type": "markdown",
   "metadata": {},
   "source": [
    "# Wrong measurements"
   ]
  },
  {
   "cell_type": "code",
   "execution_count": 26,
   "metadata": {},
   "outputs": [],
   "source": [
    "#dt_23 = np.loadtxt('Muons2018/shift-2-3.txt', delimiter = ';', skiprows = 5)\n",
    "dt_23 = np.loadtxt('Muons2018/C1H00000--00000.txt', delimiter = ';', skiprows = 5)\n"
   ]
  },
  {
   "cell_type": "code",
   "execution_count": 27,
   "metadata": {},
   "outputs": [
    {
     "data": {
      "text/plain": [
       "[<matplotlib.lines.Line2D at 0x7f9d74859a50>]"
      ]
     },
     "execution_count": 27,
     "metadata": {},
     "output_type": "execute_result"
    },
    {
     "data": {
      "image/png": "[encoded data removed]",
      "text/plain": [
       "<matplotlib.figure.Figure at 0x7f9d74895ad0>"
      ]
     },
     "metadata": {},
     "output_type": "display_data"
    }
   ],
   "source": [
    "plt.plot(dt_23[:,0], dt_23[:,1], 'ob')\n",
    "#plt.xlim(8.98e-8, 9.01e-8)"
   ]
  },
  {
   "cell_type": "markdown",
   "metadata": {},
   "source": [
    "# First \"good\" measurements"
   ]
  },
  {
   "cell_type": "code",
   "execution_count": 37,
   "metadata": {},
   "outputs": [
    {
     "name": "stdout",
     "output_type": "stream",
     "text": [
      "(98, 2)\n"
     ]
    }
   ],
   "source": [
    "data3day = np.loadtxt('Muons2018/muon3day--00000.txt', delimiter = ';', skiprows = 5)\n",
    "print np.shape(data3day)"
   ]
  },
  {
   "cell_type": "code",
   "execution_count": 40,
   "metadata": {
    "scrolled": true
   },
   "outputs": [
    {
     "data": {
      "image/png": "[encoded data removed]",
      "text/plain": [
       "<matplotlib.figure.Figure at 0x7f9d745cc8d0>"
      ]
     },
     "metadata": {},
     "output_type": "display_data"
    }
   ],
   "source": [
    "plt.plot(data3day[8:,0], data3day[8:,1], 'ob')\n",
    "x= data3day[:,0]\n",
    "y =data3day[:,1]\n",
    "y/=max(y)\n",
    "\n",
    "def f(x, a, t, b):\n",
    "    return a*np.exp(x*t) + b\n",
    "\n",
    "from scipy.optimize import curve_fit\n",
    "popt, pcov = curve_fit(f, x, y)"
   ]
  },
  {
   "cell_type": "code",
   "execution_count": 42,
   "metadata": {},
   "outputs": [
    {
     "data": {
      "text/plain": [
       "[<matplotlib.lines.Line2D at 0x7f9d747156d0>]"
      ]
     },
     "execution_count": 42,
     "metadata": {},
     "output_type": "execute_result"
    },
    {
     "data": {
      "image/png": "[encoded data removed]",
      "text/plain": [
       "<matplotlib.figure.Figure at 0x7f9d74715cd0>"
      ]
     },
     "metadata": {},
     "output_type": "display_data"
    }
   ],
   "source": [
    "t = np.linspace(x[0], x[-1], 100)\n",
    "plt.plot(t, f(t, *popt))\n",
    "plt.plot(data3day[:,0], data3day[:,1]/max(y), 'ob')\n"
   ]
  },
  {
   "cell_type": "code",
   "execution_count": 43,
   "metadata": {},
   "outputs": [
    {
     "data": {
      "text/plain": [
       "-6.188123737221403e-07"
      ]
     },
     "execution_count": 43,
     "metadata": {},
     "output_type": "execute_result"
    }
   ],
   "source": [
    "popt[1]**-1"
   ]
  },
  {
   "cell_type": "code",
   "execution_count": 44,
   "metadata": {},
   "outputs": [
    {
     "data": {
      "text/plain": [
       "array([ 3.37657363e-01, -1.61599871e+06, -2.79835764e-03])"
      ]
     },
     "execution_count": 44,
     "metadata": {},
     "output_type": "execute_result"
    }
   ],
   "source": [
    "popt"
   ]
  },
  {
   "cell_type": "code",
   "execution_count": 48,
   "metadata": {},
   "outputs": [],
   "source": [
    "def doTheFit(data, th=0):\n",
    "    x= data[th:,0]\n",
    "    y =data[th:,1]\n",
    "    y/=max(y)\n",
    "    popt, pcov = curve_fit(f, x, y)\n",
    "    t = np.linspace(x[0], x[-1], 100)\n",
    "    print 'The muon lifetime obtained is %.3f mus'%(-popt[1]**-1 * 1e6)\n",
    "    plt.plot(t, f(t, *popt))\n",
    "    plt.plot(x,y, 'ob')"
   ]
  },
  {
   "cell_type": "code",
   "execution_count": 59,
   "metadata": {},
   "outputs": [
    {
     "name": "stdout",
     "output_type": "stream",
     "text": [
      "The muon lifetime obtained is 0.084 mus\n"
     ]
    },
    {
     "data": {
      "image/png": "[encoded data removed]",
      "text/plain": [
       "<matplotlib.figure.Figure at 0x7f9d740f6d50>"
      ]
     },
     "metadata": {},
     "output_type": "display_data"
    }
   ],
   "source": [
    "data3day = np.loadtxt('Muons2018/muon3day--00000.txt', delimiter = ';', skiprows = 5)\n",
    "doTheFit(data3day, 7)"
   ]
  },
  {
   "cell_type": "code",
   "execution_count": null,
   "metadata": {},
   "outputs": [],
   "source": []
  }
 ],
 "metadata": {
  "kernelspec": {
   "display_name": "Python 2",
   "language": "python",
   "name": "python2"
  },
  "language_info": {
   "codemirror_mode": {
    "name": "ipython",
    "version": 2
   },
   "file_extension": ".py",
   "mimetype": "text/x-python",
   "name": "python",
   "nbconvert_exporter": "python",
   "pygments_lexer": "ipython2",
   "version": "2.7.14"
  }
 },
 "nbformat": 4,
 "nbformat_minor": 2
}
